{
 "cells": [
  {
   "cell_type": "code",
   "execution_count": 1,
   "metadata": {
    "collapsed": false
   },
   "outputs": [],
   "source": [
    "import gym\n",
    "from q_learning import TabularQAgent\n",
    "import matplotlib.pyplot as plt\n",
    "import numpy as np\n",
    "%matplotlib inline"
   ]
  },
  {
   "cell_type": "code",
   "execution_count": 2,
   "metadata": {
    "collapsed": false
   },
   "outputs": [],
   "source": [
    "#automatic reloading\n",
    "%load_ext autoreload\n",
    "%autoreload 2"
   ]
  },
  {
   "cell_type": "code",
   "execution_count": 3,
   "metadata": {
    "collapsed": true
   },
   "outputs": [],
   "source": [
    "def moving_average(a, n=3) :\n",
    "    ret = np.cumsum(a, dtype=float)\n",
    "    ret[n:] = ret[n:] - ret[:-n]\n",
    "    return ret[n - 1:] / n\n",
    "\n",
    "def rolling_average(a, n=3):\n",
    "    ret = []\n",
    "    t = 0\n",
    "    while t < len(a):\n",
    "        ret.append(np.mean(a[t:t+n]))\n",
    "        t += n\n",
    "    return ret"
   ]
  },
  {
   "cell_type": "markdown",
   "metadata": {},
   "source": [
    "# 4x4 Frozen Lake"
   ]
  },
  {
   "cell_type": "code",
   "execution_count": 4,
   "metadata": {
    "collapsed": false
   },
   "outputs": [
    {
     "name": "stderr",
     "output_type": "stream",
     "text": [
      "INFO:gym.envs.registration:Making new env: FrozenLake-v0\n",
      "[2016-09-06 12:06:15,909] Making new env: FrozenLake-v0\n"
     ]
    },
    {
     "ename": "NameError",
     "evalue": "name 'FLenv' is not defined",
     "output_type": "error",
     "traceback": [
      "\u001b[1;31m---------------------------------------------------------------------------\u001b[0m",
      "\u001b[1;31mNameError\u001b[0m                                 Traceback (most recent call last)",
      "\u001b[1;32m<ipython-input-4-6907815dba86>\u001b[0m in \u001b[0;36m<module>\u001b[1;34m()\u001b[0m\n\u001b[0;32m      2\u001b[0m \u001b[0mplt\u001b[0m\u001b[1;33m.\u001b[0m\u001b[0mfigure\u001b[0m\u001b[1;33m(\u001b[0m\u001b[0mfigsize\u001b[0m\u001b[1;33m=\u001b[0m\u001b[1;33m(\u001b[0m\u001b[1;36m15\u001b[0m\u001b[1;33m,\u001b[0m \u001b[1;36m7\u001b[0m\u001b[1;33m)\u001b[0m\u001b[1;33m)\u001b[0m\u001b[1;33m\u001b[0m\u001b[0m\n\u001b[0;32m      3\u001b[0m \u001b[0menv\u001b[0m \u001b[1;33m=\u001b[0m \u001b[0mgym\u001b[0m\u001b[1;33m.\u001b[0m\u001b[0mmake\u001b[0m\u001b[1;33m(\u001b[0m\u001b[1;34m'FrozenLake-v0'\u001b[0m\u001b[1;33m)\u001b[0m \u001b[1;31m# creating a grid word environment\u001b[0m\u001b[1;33m\u001b[0m\u001b[0m\n\u001b[1;32m----> 4\u001b[1;33m \u001b[0menv\u001b[0m \u001b[1;33m=\u001b[0m \u001b[0mFLenv\u001b[0m\u001b[1;33m\u001b[0m\u001b[0m\n\u001b[0m\u001b[0;32m      5\u001b[0m \u001b[1;32mfor\u001b[0m \u001b[0mpolynomial_learning_rate\u001b[0m \u001b[1;32min\u001b[0m \u001b[0mpolynomial_learning_rates\u001b[0m\u001b[1;33m:\u001b[0m\u001b[1;33m\u001b[0m\u001b[0m\n\u001b[0;32m      6\u001b[0m     agent_q = TabularQAgent(env.observation_space, env.action_space, n_episodes=20000, \n",
      "\u001b[1;31mNameError\u001b[0m: name 'FLenv' is not defined"
     ]
    },
    {
     "data": {
      "text/plain": [
       "<matplotlib.figure.Figure at 0x7f16559c7850>"
      ]
     },
     "metadata": {},
     "output_type": "display_data"
    }
   ],
   "source": [
    "polynomial_learning_rates = [0.0, 0.1, 0.3, 0.5, 0.7, 0.8, 0.9]\n",
    "plt.figure(figsize=(15, 7))\n",
    "env = gym.make('FrozenLake-v0') # creating a grid word environment\n",
    "env = FLenv\n",
    "for polynomial_learning_rate in polynomial_learning_rates:\n",
    "    agent_q = TabularQAgent(env.observation_space, env.action_space, n_episodes=20000, \n",
    "                           init_std=1, discount=1, n_itr=1000)\n",
    "    reached_goals = agent_q.learn(env, polynomial_learning_rate = polynomial_learning_rate)\n",
    "    plt.plot(rolling_average(reached_goals, 100))\n",
    "plt.legend(map(str, polynomial_learning_rates), loc = \"lower right\")"
   ]
  },
  {
   "cell_type": "markdown",
   "metadata": {},
   "source": [
    "## Analyzing the behavior of eligibility traces with Frozen Lake Problem"
   ]
  },
  {
   "cell_type": "markdown",
   "metadata": {},
   "source": [
    "1. The behavior of learning curve with eligibility traces ($\\lambda$) is not consistent."
   ]
  },
  {
   "cell_type": "code",
   "execution_count": null,
   "metadata": {
    "collapsed": false
   },
   "outputs": [],
   "source": [
    "eligibility_traces = 0.1*np.arange(0,10)\n",
    "plt.figure(figsize=(15, 7))\n",
    "env_TD = gym.make('FrozenLake-v0') # creating a grid word environment\n",
    "for eligibity_trace in eligibility_traces:\n",
    "    agent_q_TD = TabularQAgent(env.observation_space, env.action_space, n_episodes=20000, \n",
    "                               init_std=1, discount=1, n_itr=1000, eligibility_trace = eligibity_trace, eps = 0.01)\n",
    "    reached_goals_td = agent_q_TD.sarsa_lambda(env_TD)\n",
    "    plt.plot(moving_average(reached_goals_td, 1000))\n",
    "plt.legend(map(str, eligibility_traces), loc = 'upper left')"
   ]
  },
  {
   "cell_type": "code",
   "execution_count": null,
   "metadata": {
    "collapsed": false
   },
   "outputs": [],
   "source": [
    "eligibility_traces = 0.1*np.arange(0,10)\n",
    "plt.figure(figsize=(15, 7))\n",
    "env_TD = gym.make('FrozenLake-v0') # creating a grid word environment\n",
    "for eligibity_trace in eligibility_traces:\n",
    "    agent_q_TD = TabularQAgent(env.observation_space, env.action_space, n_episodes=20000, \n",
    "                               init_std=1, discount=1, n_itr=1000, eligibility_trace = eligibity_trace, eps = 0.01)\n",
    "    reached_goals_td = agent_q_TD.sarsa_lambda(env_TD)\n",
    "    agent_q_TD.accuracy(env_TD, 100)\n",
    "    plt.plot(moving_average(reached_goals_td, 1000))\n",
    "plt.legend(map(str, eligibility_traces), loc = 'upper left')"
   ]
  },
  {
   "cell_type": "code",
   "execution_count": null,
   "metadata": {
    "collapsed": false
   },
   "outputs": [],
   "source": [
    "from gym.envs.registration import register, spec\n",
    "\n",
    "MY_ENV_NAME='FrozenLakeNonSlippery-v0'\n",
    "try:\n",
    "    spec(MY_ENV_NAME)\n",
    "except:\n",
    "    register(\n",
    "        id=MY_ENV_NAME,\n",
    "        entry_point='gym.envs.toy_text:FrozenLakeEnv',\n",
    "        kwargs={'map_name': '4x4', 'is_slippery': False},\n",
    "    )\n",
    "FLenv = gym.make(MY_ENV_NAME)"
   ]
  },
  {
   "cell_type": "code",
   "execution_count": null,
   "metadata": {
    "collapsed": false
   },
   "outputs": [],
   "source": [
    "q_agent = TabularQAgent(FLenv.observation_space, FLenv.action_space, init_std=0, discount=0.9, \n",
    "                        n_episodes=20000, eps=1, polynomial_learning_rate=0.0, eligibility_trace=0.9)\n",
    "t = q_agent.learn(FLenv)\n",
    "q_agent.accuracy(FLenv, 100)"
   ]
  },
  {
   "cell_type": "code",
   "execution_count": null,
   "metadata": {
    "collapsed": false
   },
   "outputs": [],
   "source": [
    "q_agent.accuracy(FLenv, 1000)"
   ]
  },
  {
   "cell_type": "code",
   "execution_count": null,
   "metadata": {
    "collapsed": false
   },
   "outputs": [],
   "source": [
    "cum_reward = 0.0\n",
    "max_iteration = 1000\n",
    "q = q_agent.q\n",
    "for n_episode in xrange(100):\n",
    "    present_state = FLenv.reset()\n",
    "    for n_itr in xrange(max_iteration):\n",
    "        action = np.argmax(q[present_state])\n",
    "        next_state, reward, done, _ = FLenv.step(action)\n",
    "        present_state = next_state\n",
    "        if done:\n",
    "            cum_reward += reward\n",
    "            break"
   ]
  },
  {
   "cell_type": "code",
   "execution_count": null,
   "metadata": {
    "collapsed": false
   },
   "outputs": [],
   "source": [
    "env.render()"
   ]
  },
  {
   "cell_type": "markdown",
   "metadata": {
    "collapsed": false
   },
   "source": [
    "# 8x8 Frozen Lake"
   ]
  },
  {
   "cell_type": "code",
   "execution_count": null,
   "metadata": {
    "collapsed": false
   },
   "outputs": [],
   "source": [
    "env = gym.make('FrozenLake8x8-v0') # creating a grid word environment\n",
    "q_learning = TabularQAgent(env.observation_space, env.action_space, n_episodes=100000, \n",
    "                           init_std=1, discount=1, n_itr=10000)\n",
    "q_learning.learn(env)\n",
    "q_learning.accuracy(env, 100)\n"
   ]
  },
  {
   "cell_type": "code",
   "execution_count": null,
   "metadata": {
    "collapsed": true
   },
   "outputs": [],
   "source": []
  }
 ],
 "metadata": {
  "kernelspec": {
   "display_name": "Python 2",
   "language": "python",
   "name": "python2"
  },
  "language_info": {
   "codemirror_mode": {
    "name": "ipython",
    "version": 2
   },
   "file_extension": ".py",
   "mimetype": "text/x-python",
   "name": "python",
   "nbconvert_exporter": "python",
   "pygments_lexer": "ipython2",
   "version": "2.7.12"
  }
 },
 "nbformat": 4,
 "nbformat_minor": 0
}
