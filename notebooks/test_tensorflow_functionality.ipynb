{
 "cells": [
  {
   "cell_type": "markdown",
   "metadata": {},
   "source": [
    "### Testing stop_gradient"
   ]
  },
  {
   "cell_type": "code",
   "execution_count": 1,
   "metadata": {
    "collapsed": true
   },
   "outputs": [],
   "source": [
    "import tensorflow as tf\n",
    "import numpy as np\n",
    "import matplotlib.pyplot as plt\n",
    "#%matplotlib inline"
   ]
  },
  {
   "cell_type": "code",
   "execution_count": 2,
   "metadata": {
    "collapsed": false
   },
   "outputs": [],
   "source": [
    "w1 = tf.get_variable(\"w1\", shape=[5, 1], initializer=tf.truncated_normal_initializer())\n",
    "w2 = tf.get_variable(\"w2\", shape=[5, 1], initializer=tf.truncated_normal_initializer())\n",
    "w3 = tf.get_variable(\"w3\", shape=[5, 1], initializer=tf.truncated_normal_initializer())\n",
    "x = tf.placeholder(tf.float32, shape=[None, 5], name=\"x\")\n",
    "a1 = tf.matmul(x, w1)\n",
    "a2 = tf.matmul(x, w2*w3)\n",
    "a2 = tf.stop_gradient(a2)\n",
    "loss = tf.reduce_mean(tf.square(a1 - a2))\n",
    "optimizer = tf.train.GradientDescentOptimizer(learning_rate=0.1)\n",
    "gradients = optimizer.compute_gradients(loss)\n",
    "train_op = optimizer.apply_gradients(gradients)"
   ]
  },
  {
   "cell_type": "code",
   "execution_count": 3,
   "metadata": {
    "collapsed": true
   },
   "outputs": [],
   "source": [
    "sess = tf.Session()"
   ]
  },
  {
   "cell_type": "code",
   "execution_count": 4,
   "metadata": {
    "collapsed": false
   },
   "outputs": [
    {
     "name": "stdout",
     "output_type": "stream",
     "text": [
      "Tensor(\"gradients/MatMul_grad/tuple/control_dependency_1:0\", shape=(5, 1), dtype=float32) w1:0\n",
      "None w2:0\n",
      "None w3:0\n"
     ]
    }
   ],
   "source": [
    "for grad, var in gradients:\n",
    "    print grad, var.name"
   ]
  },
  {
   "cell_type": "code",
   "execution_count": 5,
   "metadata": {
    "collapsed": false
   },
   "outputs": [],
   "source": [
    "init_all = tf.initialize_all_variables()\n",
    "sess.run(init_all)\n",
    "x_value = np.identity(5, dtype=np.float32)"
   ]
  },
  {
   "cell_type": "code",
   "execution_count": 6,
   "metadata": {
    "collapsed": true
   },
   "outputs": [],
   "source": [
    "w1_diff, w2_diff, w3_diff = [], [], []"
   ]
  },
  {
   "cell_type": "code",
   "execution_count": 7,
   "metadata": {
    "collapsed": true
   },
   "outputs": [],
   "source": [
    "a, b, c = sess.run([w1, w2, w3])\n",
    "for _ in range(300):\n",
    "    sess.run(train_op, {x: x_value})\n",
    "    a1, b1, c1 = sess.run([w1, w2, w3])\n",
    "    w1_diff.append(np.mean(np.square(a1 - a)))\n",
    "    w2_diff.append(np.mean(np.square(b1 - b)))\n",
    "    w3_diff.append(np.mean(np.square(c1 - c)))"
   ]
  },
  {
   "cell_type": "code",
   "execution_count": 8,
   "metadata": {
    "collapsed": false
   },
   "outputs": [
    {
     "data": {
      "text/plain": [
       "<matplotlib.legend.Legend at 0x7fb741ddb3d0>"
      ]
     },
     "execution_count": 8,
     "metadata": {},
     "output_type": "execute_result"
    }
   ],
   "source": [
    "plt.plot(w1_diff, \"b-\")\n",
    "plt.plot(w2_diff, \"k.-\")\n",
    "plt.plot(w3_diff, \"r\")\n",
    "plt.ylabel(\"difference from starting values\")\n",
    "plt.xlabel(\"Number of iterations\")\n",
    "plt.ylim([-5, 5])\n",
    "plt.legend([\"w1\", \"w2\", \"w3\"], loc=\"lower right\")"
   ]
  },
  {
   "cell_type": "code",
   "execution_count": 9,
   "metadata": {
    "collapsed": false
   },
   "outputs": [],
   "source": [
    "plt.savefig(\"/home/drl/stack_overflow/tensor_flow/stop_gradients/stop_gradient.png\")"
   ]
  },
  {
   "cell_type": "code",
   "execution_count": 10,
   "metadata": {
    "collapsed": false
   },
   "outputs": [
    {
     "data": {
      "text/plain": [
       "array([[-1.38056862],\n",
       "       [ 0.44915062],\n",
       "       [ 0.07445293],\n",
       "       [ 0.22619617],\n",
       "       [-1.99272013]], dtype=float32)"
      ]
     },
     "execution_count": 10,
     "metadata": {},
     "output_type": "execute_result"
    }
   ],
   "source": [
    "b"
   ]
  },
  {
   "cell_type": "code",
   "execution_count": null,
   "metadata": {
    "collapsed": true
   },
   "outputs": [],
   "source": []
  }
 ],
 "metadata": {
  "kernelspec": {
   "display_name": "Python 2",
   "language": "python",
   "name": "python2"
  },
  "language_info": {
   "codemirror_mode": {
    "name": "ipython",
    "version": 2
   },
   "file_extension": ".py",
   "mimetype": "text/x-python",
   "name": "python",
   "nbconvert_exporter": "python",
   "pygments_lexer": "ipython2",
   "version": "2.7.12"
  }
 },
 "nbformat": 4,
 "nbformat_minor": 1
}
