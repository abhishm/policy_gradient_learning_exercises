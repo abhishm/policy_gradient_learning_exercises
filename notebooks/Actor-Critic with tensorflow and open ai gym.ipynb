{
 "cells": [
  {
   "cell_type": "code",
   "execution_count": 1,
   "metadata": {
    "collapsed": true
   },
   "outputs": [],
   "source": [
    "import tensorflow as tf\n",
    "import numpy as np\n",
    "import random\n",
    "import gym\n",
    "import math\n",
    "import matplotlib.pyplot as plt"
   ]
  },
  {
   "cell_type": "code",
   "execution_count": null,
   "metadata": {
    "collapsed": true
   },
   "outputs": [],
   "source": [
    "class Retrace(object):\n",
    "    def __init__(self, session, q_network, target_policy, behavior_policy, lambda_, gamma, action_n):\n",
    "        self.session = session\n",
    "        self.target_policy = target_policy\n",
    "        self.behavior_policy = behavior_policy\n",
    "        self.lambda_ = lambda_\n",
    "        self.gamma = gamma\n",
    "        self.q_network = q_network\n",
    "        self.action_n = action_n\n",
    "        \n",
    "    def __str__(self):\n",
    "        return \"Retrace lambda with lambda = {0.2f}\".format(self.lambda_)\n",
    "    \n",
    "    def compute_traces(self, episdoe):\n",
    "        \n",
    "        states, actions = episdoe[\"states\"], episdoe[\"actions\"] \n",
    "        traces = []\n",
    "\n",
    "        for state, action in zip(states, actions):\n",
    "            importace_sampling = self.target_policy(state)[action]/self.behavior_policy(state)[action]\n",
    "            trace = self.lambda_*min(importace_sampling, 1)\n",
    "            traces.append(trace)\n",
    "\n",
    "        return traces\n",
    "    \n",
    "    def compute_targets(self, episode):\n",
    "        states, actions, rewards = episode[\"states\"], episode[\"actions\"], episode[\"rewards\"]\n",
    "        q = self.q_network\n",
    "        deltas = []\n",
    "        for state, next_state, action, reward in zip(states[:-1], states[1:], actions[:-1], rewards[:-1]):\n",
    "            future_reward = self.target_policy(next_state).dot(q(next_state))\n",
    "            delta = reward + self.gamma * future_reward - q(state)[action]\n",
    "            deltas.append(delta)\n",
    "        delta = rewards[-1] - q(states[-1])[actions[-1]]\n",
    "        deltas.append(delta)\n",
    "        return deltas\n",
    "    \n",
    "    def compute_one_n_step(self, targets, traces):\n",
    "        discount = 1\n",
    "        trace = 1\n",
    "        delta = 0\n",
    "        traces = traces + [1]\n",
    "        for i, target in enumerate(targets):\n",
    "            delta += discount*trace*target\n",
    "            discount *= self.gamma\n",
    "            trace *= traces[i]\n",
    "        return delta\n",
    "    \n",
    "    def compute_n_step_target(self, episode):\n",
    "        states, actions, rewards = episode[\"states\"], episode[\"actions\"], episode[\"rewards\"]\n",
    "        traces = self.compute_traces(episode)\n",
    "        targets = self.compute_targets(episode)\n",
    "        n_step_targets = []\n",
    "        for i in xrange(len(targets)):\n",
    "            target = self.compute_one_n_step(gamma, targets[i:i+step_n], traces[i+1:i+step_n])\n",
    "            n_step_targets.append(target)\n",
    "        return n_step_targets"
   ]
  },
  {
   "cell_type": "code",
   "execution_count": 2,
   "metadata": {
    "collapsed": true
   },
   "outputs": [],
   "source": [
    "def q_network(states):\n",
    "    # define policy neural network\n",
    "    W1 = tf.get_variable(\"W1\", [state_dim, 20],\n",
    "                       initializer=tf.random_normal_initializer())\n",
    "    b1 = tf.get_variable(\"b1\", [20],\n",
    "                       initializer=tf.constant_initializer(0))\n",
    "    h1 = tf.nn.relu(tf.matmul(states, W1) + b1)\n",
    "    W2 = tf.get_variable(\"W2\", [20, num_actions],\n",
    "                       initializer=tf.random_normal_initializer())\n",
    "    b2 = tf.get_variable(\"b2\", [num_actions],\n",
    "                       initializer=tf.constant_initializer(0))\n",
    "    q = tf.matmul(h1, W2) + b2\n",
    "    return q"
   ]
  },
  {
   "cell_type": "code",
   "execution_count": null,
   "metadata": {
    "collapsed": true
   },
   "outputs": [],
   "source": []
  },
  {
   "cell_type": "code",
   "execution_count": null,
   "metadata": {
    "collapsed": true
   },
   "outputs": [],
   "source": [
    "def retrace(target_policy, behavior_policy, env, lambda_, step_n, alpha, gamma, max_episodes):\n",
    "    q = defaultdict(int)\n",
    "    action_n = env.action_space.n\n",
    "    \n",
    "    for itr in xrange(max_episodes):\n",
    "        done = False\n",
    "        state = env.reset()\n",
    "        states = []\n",
    "        actions = []\n",
    "        rewards = []\n",
    "        returns = []\n",
    "        \n",
    "        while not done:\n",
    "            states.append(state)\n",
    "            \n",
    "            action = np.random.multinomial(1, behavior_policy[state]).argmax()\n",
    "            next_state, reward, done, _ = env.step(action)\n",
    "            state = next_state\n",
    "            \n",
    "            actions.append(action)\n",
    "            rewards.append(reward)\n",
    "            \n",
    "        n_step_corrections = compute_n_step_target(deepcopy(q), states, actions, rewards, gamma, lambda_, target_policy, \n",
    "                                                   behavior_policy, action_n, step_n) \n",
    "                \n",
    "        for state, action, correction in zip(states, actions, n_step_corrections):\n",
    "            q[(state, action)] += alpha*correction\n",
    "            \n",
    "        #alpha /= (itr +1 ) ** 0.8\n",
    "        \n",
    "    return q"
   ]
  },
  {
   "cell_type": "code",
   "execution_count": 12,
   "metadata": {
    "collapsed": true
   },
   "outputs": [],
   "source": [
    "def policy_gradient(observation_space, action_space):\n",
    "    with tf.variable_scope(\"policy\"):\n",
    "        params = tf.get_variable(\"policy_parameters\", [observation_space, action_spce])\n",
    "        state = tf.placeholder(\"float\", [None, state_space])\n",
    "        actions = tf.placeholder(\"float\", [None, action_space])\n",
    "        advantages = tf.placeholder(\"float\", [None, 1])\n",
    "        linear = tf.matmul(state, params)\n",
    "        probabilities = tf.nn.softmax(linear)\n",
    "        good_probabilities = tf.reduce_sum(tf.mul(probabilities, actions), reduction_indices=[1])\n",
    "        eligibility = tf.log(good_probabilities) * advantages\n",
    "        loss = -tf.reduce_sum(eligibility)\n",
    "        optimizer = tf.train.AdamOptimizer(0.01).minimize(loss)\n",
    "        return probabilities, state, actions, advantages, optimizer"
   ]
  },
  {
   "cell_type": "code",
   "execution_count": 13,
   "metadata": {
    "collapsed": true
   },
   "outputs": [],
   "source": [
    "def value_gradient(observation_space, action_space):\n",
    "    with tf.variable_scope(\"value\"):\n",
    "        state = tf.placeholder(\"float\",[None, observation_space])\n",
    "        newvals = tf.placeholder(\"float\",[None,1])\n",
    "        w1 = tf.get_variable(\"w1\",[observation_space,10])\n",
    "        b1 = tf.get_variable(\"b1\",[10])\n",
    "        h1 = tf.nn.relu(tf.matmul(state, w1) + b1)\n",
    "        w2 = tf.get_variable(\"w2\",[10,1])\n",
    "        b2 = tf.get_variable(\"b2\",[1])\n",
    "        calculated = tf.matmul(h1, w2) + b2\n",
    "        diffs = calculated - newvals\n",
    "        loss = tf.nn.l2_loss(diffs)\n",
    "        optimizer = tf.train.AdamOptimizer(0.1).minimize(loss)\n",
    "        return calculated, state, newvals, optimizer, loss"
   ]
  },
  {
   "cell_type": "code",
   "execution_count": 10,
   "metadata": {
    "collapsed": true
   },
   "outputs": [],
   "source": [
    "def run_episode(env, policy_grad, value_grad, sess):\n",
    "    pl_calculated, pl_state, pl_actions, pl_advantages, pl_optimizer = policy_grad\n",
    "    vl_calculated, vl_state, vl_newvals, vl_optimizer, vl_loss = value_grad\n",
    "    observation = env.reset()\n",
    "    totalreward = 0\n",
    "    states = []\n",
    "    actions = []\n",
    "    advantages = []\n",
    "    transitions = []\n",
    "    update_vals = []\n",
    "    \n",
    "    for _ in xrange(200):\n",
    "        # calculate policy\n",
    "        obs_vector = np.expand_dims(observation, axis=0)\n",
    "        probs = sess.run(pl_calculated, feed_dict={pl_state: obs_vector})\n",
    "        action = 0 if random.uniform(0,1) < probs[0][0] else 1\n",
    "        # record the transition\n",
    "        states.append(observation)\n",
    "        actionblank = np.zeros(2)\n",
    "        actionblank[action] = 1\n",
    "        actions.append(actionblank)\n",
    "        # take the action in the environment\n",
    "        old_observation = observation\n",
    "        observation, reward, done, info = env.step(action)\n",
    "        transitions.append((old_observation, action, reward))\n",
    "        totalreward += reward\n",
    "\n",
    "        if done:\n",
    "            break\n",
    "            \n",
    "    for index, trans in enumerate(transitions):\n",
    "        obs, action, reward = trans\n",
    "\n",
    "        # calculate discounted monte-carlo return\n",
    "        future_reward = 0\n",
    "        future_transitions = len(transitions) - index\n",
    "        decrease = 1\n",
    "        for index2 in xrange(future_transitions):\n",
    "            future_reward += transitions[(index2) + index][2] * decrease\n",
    "            decrease = decrease * 0.97\n",
    "        obs_vector = np.expand_dims(obs, axis=0)\n",
    "        currentval = sess.run(vl_calculated, feed_dict={vl_state: obs_vector})[0][0]\n",
    "\n",
    "        # advantage: how much better was this action than normal\n",
    "        advantages.append(future_reward - currentval)\n",
    "\n",
    "        # update the value function towards new return\n",
    "        update_vals.append(future_reward)\n",
    "        \n",
    "    # update value function\n",
    "    update_vals_vector = np.expand_dims(update_vals, axis=1)\n",
    "    sess.run(vl_optimizer, feed_dict={vl_state: states, vl_newvals: update_vals_vector})\n",
    "    # real_vl_loss = sess.run(vl_loss, feed_dict={vl_state: states, vl_newvals: update_vals_vector})\n",
    "\n",
    "    advantages_vector = np.expand_dims(advantages, axis=1)\n",
    "    sess.run(pl_optimizer, feed_dict={pl_state: states, pl_advantages: advantages_vector, pl_actions: actions})\n",
    "\n",
    "    return totalreward"
   ]
  },
  {
   "cell_type": "code",
   "execution_count": 11,
   "metadata": {
    "collapsed": false
   },
   "outputs": [
    {
     "name": "stderr",
     "output_type": "stream",
     "text": [
      "[2016-08-30 11:38:52,886] Making new env: CartPole-v0\n",
      "[2016-08-30 11:38:52,897] Creating monitor directory cartpole-hill/\n",
      "[2016-08-30 11:38:53,182] Starting new video recorder writing to /home/drl/DRL/Starter Exercise/notebooks/cartpole-hill/openaigym.video.0.116047.video000000.mp4\n",
      "[2016-08-30 11:38:54,087] Starting new video recorder writing to /home/drl/DRL/Starter Exercise/notebooks/cartpole-hill/openaigym.video.0.116047.video000001.mp4\n",
      "[2016-08-30 11:38:55,207] Starting new video recorder writing to /home/drl/DRL/Starter Exercise/notebooks/cartpole-hill/openaigym.video.0.116047.video000008.mp4\n",
      "[2016-08-30 11:38:56,109] Starting new video recorder writing to /home/drl/DRL/Starter Exercise/notebooks/cartpole-hill/openaigym.video.0.116047.video000027.mp4\n",
      "[2016-08-30 11:38:57,532] Starting new video recorder writing to /home/drl/DRL/Starter Exercise/notebooks/cartpole-hill/openaigym.video.0.116047.video000064.mp4\n",
      "[2016-08-30 11:39:00,457] Starting new video recorder writing to /home/drl/DRL/Starter Exercise/notebooks/cartpole-hill/openaigym.video.0.116047.video000125.mp4\n",
      "[2016-08-30 11:39:04,293] Starting new video recorder writing to /home/drl/DRL/Starter Exercise/notebooks/cartpole-hill/openaigym.video.0.116047.video000216.mp4\n"
     ]
    },
    {
     "name": "stdout",
     "output_type": "stream",
     "text": [
      "reward 200\n",
      "248\n"
     ]
    },
    {
     "name": "stderr",
     "output_type": "stream",
     "text": [
      "[2016-08-30 11:39:10,245] Starting new video recorder writing to /home/drl/DRL/Starter Exercise/notebooks/cartpole-hill/openaigym.video.0.116047.video000343.mp4\n",
      "[2016-08-30 11:39:18,082] Starting new video recorder writing to /home/drl/DRL/Starter Exercise/notebooks/cartpole-hill/openaigym.video.0.116047.video000512.mp4\n",
      "[2016-08-30 11:39:41,161] Starting new video recorder writing to /home/drl/DRL/Starter Exercise/notebooks/cartpole-hill/openaigym.video.0.116047.video000729.mp4\n",
      "[2016-08-30 11:40:17,820] Starting new video recorder writing to /home/drl/DRL/Starter Exercise/notebooks/cartpole-hill/openaigym.video.0.116047.video001000.mp4\n",
      "[2016-08-30 11:40:52,847] Finished writing results. You can upload them to the scoreboard via gym.upload('/home/drl/DRL/Starter Exercise/notebooks/cartpole-hill')\n"
     ]
    },
    {
     "name": "stdout",
     "output_type": "stream",
     "text": [
      "137.164\n"
     ]
    }
   ],
   "source": [
    "env = gym.make('CartPole-v0')\n",
    "env.monitor.start('cartpole-hill/', force=True)\n",
    "policy_grad = policy_gradient()\n",
    "value_grad = value_gradient()\n",
    "sess = tf.InteractiveSession()\n",
    "sess.run(tf.initialize_all_variables())\n",
    "for i in xrange(2000):\n",
    "    reward = run_episode(env, policy_grad, value_grad, sess)\n",
    "    if reward == 200:\n",
    "        print \"reward 200\"\n",
    "        print i\n",
    "        break\n",
    "t = 0\n",
    "for _ in xrange(1000):\n",
    "    reward = run_episode(env, policy_grad, value_grad, sess)\n",
    "    t += reward\n",
    "print t / 1000\n",
    "env.monitor.close()"
   ]
  },
  {
   "cell_type": "code",
   "execution_count": null,
   "metadata": {
    "collapsed": true
   },
   "outputs": [],
   "source": []
  }
 ],
 "metadata": {
  "kernelspec": {
   "display_name": "Python 2",
   "language": "python",
   "name": "python2"
  },
  "language_info": {
   "codemirror_mode": {
    "name": "ipython",
    "version": 2
   },
   "file_extension": ".py",
   "mimetype": "text/x-python",
   "name": "python",
   "nbconvert_exporter": "python",
   "pygments_lexer": "ipython2",
   "version": "2.7.12"
  }
 },
 "nbformat": 4,
 "nbformat_minor": 1
}
