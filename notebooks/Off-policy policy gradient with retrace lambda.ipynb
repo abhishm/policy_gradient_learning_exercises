{
 "cells": [
  {
   "cell_type": "code",
   "execution_count": 1,
   "metadata": {
    "collapsed": true
   },
   "outputs": [],
   "source": [
    "import tensorflow as tf\n",
    "import numpy as np\n",
    "import random\n",
    "import gym\n",
    "import math\n",
    "import matplotlib.pyplot as plt"
   ]
  },
  {
   "cell_type": "code",
   "execution_count": 8,
   "metadata": {
    "collapsed": true
   },
   "outputs": [],
   "source": [
    "from collections import deque\n",
    "import random\n",
    "\n",
    "class ReplayBuffer(object):\n",
    "\n",
    "  def __init__(self, buffer_size):\n",
    "\n",
    "    self.buffer_size = buffer_size\n",
    "    self.num_experiences = 0\n",
    "    self.buffer = deque()\n",
    "\n",
    "  def getBatch(self, batch_size):\n",
    "    # random draw N\n",
    "    return random.sample(self.buffer, batch_size)\n",
    "\n",
    "  def size(self):\n",
    "    return self.buffer_size\n",
    "\n",
    "  def add(self, episode):\n",
    "    new_experience = episode\n",
    "    if self.num_experiences < self.buffer_size:\n",
    "      self.buffer.append(new_experience)\n",
    "      self.num_experiences += 1\n",
    "    else:\n",
    "      self.buffer.popleft()\n",
    "      self.buffer.append(new_experience)\n",
    "\n",
    "  def count(self):\n",
    "    # if buffer is full, return buffer size\n",
    "    # otherwise, return experience counter\n",
    "    return self.num_experiences\n",
    "\n",
    "  def erase(self):\n",
    "    self.buffer = deque()\n",
    "    self.num_experiences = 0"
   ]
  },
  {
   "cell_type": "code",
   "execution_count": null,
   "metadata": {
    "collapsed": true
   },
   "outputs": [],
   "source": [
    "def action_value(behavior_policy, target_policy, episodes):\n",
    "    "
   ]
  },
  {
   "cell_type": "code",
   "execution_count": 2,
   "metadata": {
    "collapsed": true
   },
   "outputs": [],
   "source": [
    "def policy_gradient():\n",
    "    with tf.variable_scope(\"policy\"):\n",
    "        params = tf.get_variable(\"policy_parameters\",[4,2])\n",
    "        state = tf.placeholder(\"float\",[None,4])\n",
    "        actions = tf.placeholder(\"float\",[None,2])\n",
    "        advantages = tf.placeholder(\"float\",[None,1])\n",
    "        linear = tf.matmul(state,params)\n",
    "        probabilities = tf.nn.softmax(linear)\n",
    "        good_probabilities = tf.reduce_sum(tf.mul(probabilities, actions),reduction_indices=[1])\n",
    "        eligibility = tf.log(good_probabilities) * advantages\n",
    "        loss = -tf.reduce_sum(eligibility)\n",
    "        optimizer = tf.train.AdamOptimizer(0.01).minimize(loss)\n",
    "        return probabilities, state, actions, advantages, optimizer"
   ]
  },
  {
   "cell_type": "code",
   "execution_count": 7,
   "metadata": {
    "collapsed": true
   },
   "outputs": [],
   "source": [
    "def action_value_gradient():\n",
    "    with tf.variable_scope(\"action_value\"):\n",
    "        state = tf.placeholder(\"float\",[None,4])\n",
    "        newvals = tf.placeholder(\"float\",[None,1])\n",
    "        w1 = tf.get_variable(\"w1\",[4,10])\n",
    "        b1 = tf.get_variable(\"b1\",[10])\n",
    "        h1 = tf.nn.relu(tf.matmul(state,w1) + b1)\n",
    "        w2 = tf.get_variable(\"w2\",[10,2])\n",
    "        b2 = tf.get_variable(\"b2\",[2])\n",
    "        calculated = tf.matmul(h1,w2) + b2\n",
    "        diffs = calculated - newvals\n",
    "        loss = tf.nn.l2_loss(diffs)\n",
    "        optimizer = tf.train.AdamOptimizer(0.1).minimize(loss)\n",
    "        return calculated, state, newvals, optimizer, loss"
   ]
  },
  {
   "cell_type": "code",
   "execution_count": null,
   "metadata": {
    "collapsed": true
   },
   "outputs": [],
   "source": [
    "def calculate_policy_value(policy_grad, episdoes):\n",
    "    \n",
    "    "
   ]
  },
  {
   "cell_type": "code",
   "execution_count": 4,
   "metadata": {
    "collapsed": true
   },
   "outputs": [],
   "source": [
    "def run_episode(env, policy_grad, value_grad, sess):\n",
    "    pl_calculated, pl_state, pl_actions, pl_advantages, pl_optimizer = policy_grad\n",
    "    vl_calculated, vl_state, vl_newvals, vl_optimizer, vl_loss = value_grad\n",
    "    observation = env.reset()\n",
    "    totalreward = 0\n",
    "    states = []\n",
    "    actions = []\n",
    "    advantages = []\n",
    "    transitions = []\n",
    "    update_vals = []\n",
    "\n",
    "\n",
    "    for _ in xrange(200):\n",
    "        # calculate policy\n",
    "        obs_vector = np.expand_dims(observation, axis=0)\n",
    "        probs = sess.run(pl_calculated,feed_dict={pl_state: obs_vector})\n",
    "        action = env.action_space.sample()  ### random behavior policy\n",
    "        # record the transition\n",
    "        states.append(observation)\n",
    "        actionblank = np.zeros(2)\n",
    "        actionblank[action] = 1\n",
    "        actions.append(actionblank)\n",
    "        # take the action in the environment\n",
    "        old_observation = observation \n",
    "        observation, reward, done, info = env.step(action)\n",
    "        transitions.append((old_observation, action, reward, observation))\n",
    "        totalreward += reward\n",
    "\n",
    "        if done:\n",
    "            break\n",
    "    policy_value(,transitions)\n",
    "    discount = 0.97\n",
    "    for index, trans in enumerate(transitions):\n",
    "        obs, action, reward, next_obs = trans\n",
    "\n",
    "        # calculate advantage r_t + gamma*V_{t+1} - V_t\n",
    "        \n",
    "        \n",
    "        obs_vector = np.expand_dims(obs, axis=0)\n",
    "        next_obs_vector = np.expand_dims(next_obs, axis=0)\n",
    "        \n",
    "        currentval = sess.run(vl_calculated,feed_dict={vl_state: obs_vector})[0][0]\n",
    "        nextval = sess.run(vl_calculated, feed_dict={vl_state: next_obs_vector})[0][0]\n",
    "        \n",
    "        # advantage: how much better was this action than normal\n",
    "        if index == len(transitions) -1:\n",
    "            nextval = 0\n",
    "            \n",
    "        advantages.append(reward + discount * nextval - currentval)\n",
    "\n",
    "        # update the value function towards new return\n",
    "        # update_vals.append(future_reward)\n",
    "\n",
    "    # update value function\n",
    "    # update_vals_vector = np.expand_dims(update_vals, axis=1)\n",
    "    # sess.run(vl_optimizer, feed_dict={vl_state: states, vl_newvals: update_vals_vector})\n",
    "    # real_vl_loss = sess.run(vl_loss, feed_dict={vl_state: states, vl_newvals: update_vals_vector})\n",
    "\n",
    "    advantages_vector = np.expand_dims(advantages, axis=1)\n",
    "    sess.run(pl_optimizer, feed_dict={pl_state: states, pl_advantages: advantages_vector, pl_actions: actions})\n",
    "\n",
    "    return totalreward\n",
    "\n",
    "\n"
   ]
  },
  {
   "cell_type": "code",
   "execution_count": 5,
   "metadata": {
    "collapsed": false
   },
   "outputs": [
    {
     "name": "stderr",
     "output_type": "stream",
     "text": [
      "[2016-09-02 16:21:22,507] Making new env: CartPole-v0\n",
      "[2016-09-02 16:21:22,522] Clearing 5 monitor files from previous run (because force=True was provided)\n",
      "[2016-09-02 16:21:22,781] Starting new video recorder writing to /home/drl/DRL/Starter Exercise/notebooks/cartpole-hill/openaigym.video.0.33787.video000000.mp4\n",
      "[2016-09-02 16:21:23,599] Starting new video recorder writing to /home/drl/DRL/Starter Exercise/notebooks/cartpole-hill/openaigym.video.0.33787.video000001.mp4\n",
      "[2016-09-02 16:21:24,003] Starting new video recorder writing to /home/drl/DRL/Starter Exercise/notebooks/cartpole-hill/openaigym.video.0.33787.video000008.mp4\n",
      "[2016-09-02 16:21:24,671] Starting new video recorder writing to /home/drl/DRL/Starter Exercise/notebooks/cartpole-hill/openaigym.video.0.33787.video000027.mp4\n",
      "[2016-09-02 16:21:25,638] Finished writing results. You can upload them to the scoreboard via gym.upload('/home/drl/DRL/Starter Exercise/notebooks/cartpole-hill')\n"
     ]
    },
    {
     "name": "stdout",
     "output_type": "stream",
     "text": [
      "0.188\n"
     ]
    }
   ],
   "source": [
    "env = gym.make('CartPole-v0')\n",
    "env.monitor.start('cartpole-hill/', force=True)\n",
    "policy_grad = policy_gradient()\n",
    "value_grad = value_gradient()\n",
    "sess = tf.InteractiveSession()\n",
    "sess.run(tf.initialize_all_variables())\n",
    "for i in xrange(20):\n",
    "    reward = run_episode(env, policy_grad, value_grad, sess)\n",
    "    if reward == 200:\n",
    "        print \"reward 200\"\n",
    "        print i\n",
    "        break\n",
    "t = 0\n",
    "for _ in xrange(10):\n",
    "    reward = run_episode(env, policy_grad, value_grad, sess)\n",
    "    t += reward\n",
    "print t / 1000\n",
    "env.monitor.close()"
   ]
  },
  {
   "cell_type": "code",
   "execution_count": null,
   "metadata": {
    "collapsed": true
   },
   "outputs": [],
   "source": []
  },
  {
   "cell_type": "code",
   "execution_count": null,
   "metadata": {
    "collapsed": true
   },
   "outputs": [],
   "source": []
  }
 ],
 "metadata": {
  "kernelspec": {
   "display_name": "Python 2",
   "language": "python",
   "name": "python2"
  },
  "language_info": {
   "codemirror_mode": {
    "name": "ipython",
    "version": 2
   },
   "file_extension": ".py",
   "mimetype": "text/x-python",
   "name": "python",
   "nbconvert_exporter": "python",
   "pygments_lexer": "ipython2",
   "version": "2.7.12"
  }
 },
 "nbformat": 4,
 "nbformat_minor": 1
}
