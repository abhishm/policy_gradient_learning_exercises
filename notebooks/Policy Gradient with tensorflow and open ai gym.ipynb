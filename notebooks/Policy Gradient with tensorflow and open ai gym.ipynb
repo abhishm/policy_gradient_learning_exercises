{
 "cells": [
  {
   "cell_type": "code",
   "execution_count": 1,
   "metadata": {
    "collapsed": true
   },
   "outputs": [],
   "source": [
    "import tensorflow as tf\n",
    "import numpy as np\n",
    "import random\n",
    "import gym\n",
    "import math\n",
    "import matplotlib.pyplot as plt"
   ]
  },
  {
   "cell_type": "code",
   "execution_count": 16,
   "metadata": {
    "collapsed": true
   },
   "outputs": [],
   "source": [
    "def policy_gradient():\n",
    "    with tf.variable_scope(\"policy\"):\n",
    "        params = tf.get_variable(\"policy_parameters\",[4,2])\n",
    "        state = tf.placeholder(\"float\",[None,4])\n",
    "        actions = tf.placeholder(\"float\",[None,2])\n",
    "        advantages = tf.placeholder(\"float\",[None,1])\n",
    "        linear = tf.matmul(state,params)\n",
    "        probabilities = tf.nn.softmax(linear)\n",
    "        good_probabilities = tf.reduce_sum(tf.mul(probabilities, actions),reduction_indices=[1])\n",
    "        eligibility = tf.log(good_probabilities) * advantages\n",
    "        loss = -tf.reduce_sum(eligibility)\n",
    "        optimizer = tf.train.AdamOptimizer(0.01).minimize(loss)\n",
    "        return probabilities, state, actions, advantages, optimizer"
   ]
  },
  {
   "cell_type": "code",
   "execution_count": 17,
   "metadata": {
    "collapsed": true
   },
   "outputs": [],
   "source": [
    "def value_gradient():\n",
    "    with tf.variable_scope(\"value\"):\n",
    "        state = tf.placeholder(\"float\",[None,4])\n",
    "        newvals = tf.placeholder(\"float\",[None,1])\n",
    "        w1 = tf.get_variable(\"w1\",[4,10])\n",
    "        b1 = tf.get_variable(\"b1\",[10])\n",
    "        h1 = tf.nn.relu(tf.matmul(state,w1) + b1)\n",
    "        w2 = tf.get_variable(\"w2\",[10,1])\n",
    "        b2 = tf.get_variable(\"b2\",[1])\n",
    "        calculated = tf.matmul(h1,w2) + b2\n",
    "        diffs = calculated - newvals\n",
    "        loss = tf.nn.l2_loss(diffs)\n",
    "        optimizer = tf.train.AdamOptimizer(0.1).minimize(loss)\n",
    "        return calculated, state, newvals, optimizer, loss"
   ]
  },
  {
   "cell_type": "code",
   "execution_count": 18,
   "metadata": {
    "collapsed": true
   },
   "outputs": [],
   "source": [
    "def run_episode(env, policy_grad, value_grad, sess):\n",
    "    pl_calculated, pl_state, pl_actions, pl_advantages, pl_optimizer = policy_grad\n",
    "    vl_calculated, vl_state, vl_newvals, vl_optimizer, vl_loss = value_grad\n",
    "    observation = env.reset()\n",
    "    totalreward = 0\n",
    "    states = []\n",
    "    actions = []\n",
    "    advantages = []\n",
    "    transitions = []\n",
    "    update_vals = []\n",
    "\n",
    "\n",
    "    for _ in xrange(200):\n",
    "        # calculate policy\n",
    "        obs_vector = np.expand_dims(observation, axis=0)\n",
    "        probs = sess.run(pl_calculated,feed_dict={pl_state: obs_vector})\n",
    "        action = 0 if random.uniform(0,1) < probs[0][0] else 1\n",
    "        # record the transition\n",
    "        states.append(observation)\n",
    "        actionblank = np.zeros(2)\n",
    "        actionblank[action] = 1\n",
    "        actions.append(actionblank)\n",
    "        # take the action in the environment\n",
    "        old_observation = observation\n",
    "        observation, reward, done, info = env.step(action)\n",
    "        transitions.append((old_observation, action, reward))\n",
    "        totalreward += reward\n",
    "\n",
    "        if done:\n",
    "            break\n",
    "    for index, trans in enumerate(transitions):\n",
    "        obs, action, reward = trans\n",
    "\n",
    "        # calculate discounted monte-carlo return\n",
    "        future_reward = 0\n",
    "        future_transitions = len(transitions) - index\n",
    "        decrease = 1\n",
    "        for index2 in xrange(future_transitions):\n",
    "            future_reward += transitions[(index2) + index][2] * decrease\n",
    "            decrease = decrease * 0.97\n",
    "        obs_vector = np.expand_dims(obs, axis=0)\n",
    "        currentval = sess.run(vl_calculated,feed_dict={vl_state: obs_vector})[0][0]\n",
    "\n",
    "        # advantage: how much better was this action than normal\n",
    "        advantages.append(future_reward - currentval)\n",
    "\n",
    "        # update the value function towards new return\n",
    "        update_vals.append(future_reward)\n",
    "\n",
    "    # update value function\n",
    "    update_vals_vector = np.expand_dims(update_vals, axis=1)\n",
    "    sess.run(vl_optimizer, feed_dict={vl_state: states, vl_newvals: update_vals_vector})\n",
    "    # real_vl_loss = sess.run(vl_loss, feed_dict={vl_state: states, vl_newvals: update_vals_vector})\n",
    "\n",
    "    advantages_vector = np.expand_dims(advantages, axis=1)\n",
    "    sess.run(pl_optimizer, feed_dict={pl_state: states, pl_advantages: advantages_vector, pl_actions: actions})\n",
    "\n",
    "    return totalreward\n",
    "\n",
    "\n"
   ]
  },
  {
   "cell_type": "code",
   "execution_count": 19,
   "metadata": {
    "collapsed": false
   },
   "outputs": [
    {
     "name": "stderr",
     "output_type": "stream",
     "text": [
      "[2016-09-01 14:59:33,226] Making new env: CartPole-v0\n",
      "Exception IOError: IOError(2, 'No such file or directory') in <bound method CartPoleEnv.__del__ of <gym.envs.classic_control.cartpole.CartPoleEnv object at 0x7fc1488c9850>> ignored\n",
      "Exception IOError: IOError(2, 'No such file or directory') in <bound method Monitor.__del__ of <gym.monitoring.monitor.Monitor object at 0x7fc170162190>> ignored\n",
      "[2016-09-01 14:59:33,232] Creating monitor directory cartpole-hill/\n",
      "[2016-09-01 14:59:33,578] Starting new video recorder writing to /home/drl/DRL/Starter Exercise/notebooks/cartpole-hill/openaigym.video.5.26303.video000000.mp4\n",
      "[2016-09-01 14:59:35,724] Starting new video recorder writing to /home/drl/DRL/Starter Exercise/notebooks/cartpole-hill/openaigym.video.5.26303.video000001.mp4\n",
      "[2016-09-01 14:59:36,337] Starting new video recorder writing to /home/drl/DRL/Starter Exercise/notebooks/cartpole-hill/openaigym.video.5.26303.video000008.mp4\n",
      "[2016-09-01 14:59:37,885] Starting new video recorder writing to /home/drl/DRL/Starter Exercise/notebooks/cartpole-hill/openaigym.video.5.26303.video000027.mp4\n",
      "[2016-09-01 14:59:39,861] Starting new video recorder writing to /home/drl/DRL/Starter Exercise/notebooks/cartpole-hill/openaigym.video.5.26303.video000064.mp4\n",
      "[2016-09-01 14:59:44,480] Starting new video recorder writing to /home/drl/DRL/Starter Exercise/notebooks/cartpole-hill/openaigym.video.5.26303.video000125.mp4\n"
     ]
    },
    {
     "name": "stdout",
     "output_type": "stream",
     "text": [
      "reward 200\n",
      "161\n"
     ]
    },
    {
     "name": "stderr",
     "output_type": "stream",
     "text": [
      "[2016-09-01 14:59:53,393] Starting new video recorder writing to /home/drl/DRL/Starter Exercise/notebooks/cartpole-hill/openaigym.video.5.26303.video000216.mp4\n",
      "[2016-09-01 15:00:12,719] Starting new video recorder writing to /home/drl/DRL/Starter Exercise/notebooks/cartpole-hill/openaigym.video.5.26303.video000343.mp4\n",
      "[2016-09-01 15:00:44,342] Starting new video recorder writing to /home/drl/DRL/Starter Exercise/notebooks/cartpole-hill/openaigym.video.5.26303.video000512.mp4\n",
      "[2016-09-01 15:01:24,676] Starting new video recorder writing to /home/drl/DRL/Starter Exercise/notebooks/cartpole-hill/openaigym.video.5.26303.video000729.mp4\n",
      "[2016-09-01 15:02:13,431] Starting new video recorder writing to /home/drl/DRL/Starter Exercise/notebooks/cartpole-hill/openaigym.video.5.26303.video001000.mp4\n",
      "[2016-09-01 15:02:44,989] Finished writing results. You can upload them to the scoreboard via gym.upload('/home/drl/DRL/Starter Exercise/notebooks/cartpole-hill')\n"
     ]
    },
    {
     "name": "stdout",
     "output_type": "stream",
     "text": [
      "169.401\n"
     ]
    }
   ],
   "source": [
    "env = gym.make('CartPole-v0')\n",
    "env.monitor.start('cartpole-hill/', force=True)\n",
    "policy_grad = policy_gradient()\n",
    "value_grad = value_gradient()\n",
    "sess = tf.InteractiveSession()\n",
    "sess.run(tf.initialize_all_variables())\n",
    "for i in xrange(2000):\n",
    "    reward = run_episode(env, policy_grad, value_grad, sess)\n",
    "    if reward == 200:\n",
    "        print \"reward 200\"\n",
    "        print i\n",
    "        break\n",
    "t = 0\n",
    "for _ in xrange(1000):\n",
    "    reward = run_episode(env, policy_grad, value_grad, sess)\n",
    "    t += reward\n",
    "print t / 1000\n",
    "env.monitor.close()"
   ]
  },
  {
   "cell_type": "code",
   "execution_count": null,
   "metadata": {
    "collapsed": true
   },
   "outputs": [],
   "source": []
  },
  {
   "cell_type": "code",
   "execution_count": null,
   "metadata": {
    "collapsed": true
   },
   "outputs": [],
   "source": []
  }
 ],
 "metadata": {
  "kernelspec": {
   "display_name": "Python 2",
   "language": "python",
   "name": "python2"
  },
  "language_info": {
   "codemirror_mode": {
    "name": "ipython",
    "version": 2
   },
   "file_extension": ".py",
   "mimetype": "text/x-python",
   "name": "python",
   "nbconvert_exporter": "python",
   "pygments_lexer": "ipython2",
   "version": "2.7.12"
  }
 },
 "nbformat": 4,
 "nbformat_minor": 1
}
