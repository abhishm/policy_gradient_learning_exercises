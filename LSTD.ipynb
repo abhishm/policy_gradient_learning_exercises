{
 "cells": [
  {
   "cell_type": "code",
   "execution_count": 1,
   "metadata": {
    "collapsed": true
   },
   "outputs": [],
   "source": [
    "import numpy as np\n",
    "np.set_printoptions(precision=2)"
   ]
  },
  {
   "cell_type": "code",
   "execution_count": 2,
   "metadata": {
    "collapsed": true
   },
   "outputs": [],
   "source": [
    "def feature_encoder(obs, state_space_n):\n",
    "    state = np.zeros((state_space_n, 1), dtype = float)\n",
    "    state[obs] = 1.0\n",
    "    return state"
   ]
  },
  {
   "cell_type": "code",
   "execution_count": 12,
   "metadata": {
    "collapsed": true
   },
   "outputs": [],
   "source": [
    "def LSTD(env, max_iteration, feature_encoder, policy, gamma, lambda_):\n",
    "    A = 0\n",
    "    b = 0\n",
    "    state_visited = set()\n",
    "    state_space_n = env.observation_space.n\n",
    "    for itr in xrange(max_iteration):\n",
    "        obs = env.reset()\n",
    "        state = feature_encoder(obs, state_space_n)\n",
    "        eligibility = state\n",
    "        done = False\n",
    "        state_visited = state_visited.union({obs})\n",
    "        while not done:\n",
    "            action = np.random.multinomial(1, policy[obs]).argmax()\n",
    "            next_obs, reward, done, _ = env.step(action)\n",
    "            next_state = feature_encoder(next_obs, state_space_n)\n",
    "            A += eligibility.dot((state - gamma * next_state).T)\n",
    "            b += eligibility*reward\n",
    "            eligibility = lambda_*eligibility + next_state\n",
    "            obs = next_obs\n",
    "            state_visited = state_visited.union({next_obs})\n",
    "    return A#, np.linalg.inv(A).dot(b)"
   ]
  },
  {
   "cell_type": "code",
   "execution_count": 4,
   "metadata": {
    "collapsed": true
   },
   "outputs": [],
   "source": [
    "from collections import defaultdict"
   ]
  },
  {
   "cell_type": "code",
   "execution_count": 5,
   "metadata": {
    "collapsed": true
   },
   "outputs": [],
   "source": [
    "tmp_policy = defaultdict(lambda: np.ones(4)/4.)"
   ]
  },
  {
   "cell_type": "code",
   "execution_count": 6,
   "metadata": {
    "collapsed": false
   },
   "outputs": [
    {
     "name": "stderr",
     "output_type": "stream",
     "text": [
      "INFO:gym.envs.registration:Making new env: FrozenLakeNonSlippery-v0\n",
      "[2016-08-31 20:02:28,532] Making new env: FrozenLakeNonSlippery-v0\n"
     ]
    }
   ],
   "source": [
    "import gym\n",
    "from gym.envs.registration import register, spec\n",
    "\n",
    "MY_ENV_NAME='FrozenLakeNonSlippery-v0'\n",
    "try:\n",
    "    spec(MY_ENV_NAME)\n",
    "except:\n",
    "    register(\n",
    "        id=MY_ENV_NAME,\n",
    "        entry_point='gym.envs.toy_text:FrozenLakeEnv',\n",
    "        kwargs={'map_name': '4x4', 'is_slippery': False},\n",
    "    )\n",
    "FLenv = gym.make(MY_ENV_NAME)"
   ]
  },
  {
   "cell_type": "code",
   "execution_count": 13,
   "metadata": {
    "collapsed": false
   },
   "outputs": [],
   "source": [
    "a = LSTD(FLenv, 20000, feature_encoder, tmp_policy, 1, 0.99)"
   ]
  },
  {
   "cell_type": "code",
   "execution_count": 19,
   "metadata": {
    "collapsed": false
   },
   "outputs": [
    {
     "data": {
      "text/plain": [
       "array([16, 16, 16, 16, 16,  0, 16,  0, 16, 16, 16,  0,  0, 16, 16,  0])"
      ]
     },
     "execution_count": 19,
     "metadata": {},
     "output_type": "execute_result"
    }
   ],
   "source": [
    "(a != 0).sum(axis=1)"
   ]
  },
  {
   "cell_type": "code",
   "execution_count": 20,
   "metadata": {
    "collapsed": false
   },
   "outputs": [
    {
     "name": "stdout",
     "output_type": "stream",
     "text": [
      "SFFF\n",
      "F\u001b[41mH\u001b[0mFH\n",
      "FFFH\n",
      "HFFG\n",
      "  (Right)\n"
     ]
    },
    {
     "data": {
      "text/plain": [
       "<ipykernel.iostream.OutStream at 0x7fe12b207bd0>"
      ]
     },
     "execution_count": 20,
     "metadata": {},
     "output_type": "execute_result"
    }
   ],
   "source": [
    "FLenv.render()"
   ]
  },
  {
   "cell_type": "code",
   "execution_count": null,
   "metadata": {
    "collapsed": true
   },
   "outputs": [],
   "source": []
  }
 ],
 "metadata": {
  "kernelspec": {
   "display_name": "Python 2",
   "language": "python",
   "name": "python2"
  },
  "language_info": {
   "codemirror_mode": {
    "name": "ipython",
    "version": 2
   },
   "file_extension": ".py",
   "mimetype": "text/x-python",
   "name": "python",
   "nbconvert_exporter": "python",
   "pygments_lexer": "ipython2",
   "version": "2.7.12"
  }
 },
 "nbformat": 4,
 "nbformat_minor": 0
}
