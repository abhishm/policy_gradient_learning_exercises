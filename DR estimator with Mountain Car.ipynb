{
 "cells": [
  {
   "cell_type": "code",
   "execution_count": 1,
   "metadata": {
    "collapsed": true
   },
   "outputs": [],
   "source": [
    "import numpy as np\n",
    "import gym\n",
    "from pg import *\n",
    "import matplotlib.pyplot as plt\n",
    "from matplotlib import animation\n",
    "%matplotlib inline\n",
    "from JSAnimation.IPython_display import display_animation\n",
    "from IPython.display import display\n",
    "import time"
   ]
  },
  {
   "cell_type": "code",
   "execution_count": 2,
   "metadata": {
    "collapsed": true
   },
   "outputs": [],
   "source": [
    "%load_ext autoreload\n",
    "%autoreload 2"
   ]
  },
  {
   "cell_type": "markdown",
   "metadata": {},
   "source": [
    "### Step-wise Importance Sampline\n",
    "### Step-wise weighted Importance Sampling\n",
    "### Regression Estimator\n",
    "### Doubly Robust Estimator\n",
    "### Doubly Robust Estimator with constant baseline"
   ]
  },
  {
   "cell_type": "code",
   "execution_count": 3,
   "metadata": {
    "collapsed": true
   },
   "outputs": [],
   "source": [
    "def rounding_state(ob, rounding_factor):\n",
    "    return np.round(ob*rounding_factor)"
   ]
  },
  {
   "cell_type": "code",
   "execution_count": 4,
   "metadata": {
    "collapsed": true
   },
   "outputs": [],
   "source": [
    "def do_episode(env, policy, max_pathlength, discount, path_baseline, rounding_factor):\n",
    "    \"\"\"\n",
    "    Simulate the env and policy for max_pathlength steps\n",
    "    \"\"\"\n",
    "    present_state = env.reset()\n",
    "\n",
    "    obs = []\n",
    "    actions = []\n",
    "    rewards = []\n",
    "\n",
    "    for _ in xrange(max_pathlength):\n",
    "        action = policy.act(present_state)\n",
    "        for _ in range(4):\n",
    "            next_state, reward, done, _ = env.step(action)\n",
    "\n",
    "        obs.append(rounding_state(present_state, rounding_factor))\n",
    "        actions.append(action)\n",
    "        rewards.append(reward)\n",
    "\n",
    "        present_state = next_state\n",
    "\n",
    "        if done:\n",
    "            break\n",
    "            \n",
    "    if path_baseline:\n",
    "        baseline = path_baseline.predict({\"observations\" : np.array(obs), \n",
    "                                          \"actions\" : np.array(actions), \n",
    "                                          \"rewards\" : np.array(rewards)})\n",
    "        advantages = []\n",
    "\n",
    "    returns = []\n",
    "    return_so_far = 0\n",
    "    for t in xrange(len(rewards) - 1, -1, -1):\n",
    "        return_so_far = rewards[t] + discount * return_so_far\n",
    "        returns.append(return_so_far)\n",
    "        if path_baseline:\n",
    "            advantage = return_so_far - baseline[t]\n",
    "            advantages.append(advantage)\n",
    "    # The returns and advantages are stored backwards in time, so we need to revert it\n",
    "    returns = returns[::-1]\n",
    "    if path_baseline:\n",
    "        advantages = advantages[::-1]\n",
    "\n",
    "    if path_baseline:\n",
    "        return {\"observations\" : np.array(obs), \"actions\" : np.array(actions), \"rewards\" : np.array(rewards),\n",
    "                \"returns\" : np.array(returns), \"advantages\" : advantages }\n",
    "    else:\n",
    "        return {\"observations\" : np.array(obs), \"actions\" : np.array(actions), \"rewards\" : np.array(rewards),\n",
    "                \"returns\" : np.array(returns)}\n",
    "\n",
    "def rollouts(env, policy, max_pathlength, number_of_paths, discount, path_baseline, rounding_factor):\n",
    "    paths = []\n",
    "    for _ in range(number_of_paths):\n",
    "        path = do_episode(env, policy, max_pathlength, discount, path_baseline, rounding_factor)\n",
    "        paths.append(path)\n",
    "    if path_baseline:\n",
    "        path_baseline.fit(paths)\n",
    "    return paths\n"
   ]
  },
  {
   "cell_type": "markdown",
   "metadata": {},
   "source": [
    "### Fitted Q-Learning"
   ]
  },
  {
   "cell_type": "code",
   "execution_count": 5,
   "metadata": {
    "collapsed": true
   },
   "outputs": [],
   "source": [
    "class FittedQAgent(object):\n",
    "    \"\"\"\n",
    "    Agent implementing tabular Q-learning.\n",
    "    \"\"\"\n",
    "\n",
    "    def __init__(self, observation_space, action_space, **userconfig):\n",
    "        self.observation_space = observation_space\n",
    "        self.action_space = action_space\n",
    "        self.action_n = action_space.n\n",
    "        self.config = {\n",
    "            \"init_mean\" : 0.0,      # Initialize Q values with this mean\n",
    "            \"init_std\" : 0.0,       # Initialize Q values with this standard deviation\n",
    "            \"learning_rate\" : 0.1,\n",
    "            \"eps\": 0.05,            # Epsilon in epsilon greedy policies\n",
    "            \"discount\": 0.95,\n",
    "            \"n_episodes\": 1000,    # Number of episodes\n",
    "            \"n_itr\": 10}        # Maximum number of iteration\n",
    "        self.config.update(userconfig)\n",
    "        self.q = defaultdict(lambda: self.config[\"init_std\"] * np.random.randn(self.action_n) +\n",
    "                             self.config[\"init_mean\"])\n",
    "\n",
    "    def learn(self, data):\n",
    "        config = self.config\n",
    "        q = self.q\n",
    "        alpha = config[\"learning_rate\"]\n",
    "        gamma = config[\"discount\"]\n",
    "        max_iteration = config[\"n_itr\"]\n",
    "        errors = []\n",
    "        for n_itr in xrange(max_iteration):\n",
    "            for episode in data:\n",
    "                observations = episode[\"observations\"]\n",
    "                actions = episode[\"actions\"]\n",
    "                rewards = episode[\"rewards\"]\n",
    "                present_state = observations[0]\n",
    "                for n in xrange(len(observations)-1): # Double check it\n",
    "                    action = actions[n]\n",
    "                    next_state, reward = observations[n+1], rewards[n]\n",
    "                    done = (n == len(observations)-2)\n",
    "                    future = 0.0\n",
    "                    if not done:\n",
    "                        future = np.max(q[tuple(next_state)])\n",
    "                    q[tuple(present_state)][action] =  (((1 - alpha) * q[tuple(present_state)][action])\n",
    "                                                 + (alpha * (reward + gamma * future)))\n",
    "                    present_state = next_state\n",
    "                \n",
    "            if n_itr == 0:\n",
    "                new_q = np.concatenate([x[1] for x in sorted(self.q.items())])\n",
    "            else:\n",
    "                pre_q, new_q = new_q, np.concatenate([x[1] for x in sorted(self.q.items())])\n",
    "                errors.append(np.mean(np.abs(pre_q - new_q)))\n",
    "        return errors"
   ]
  },
  {
   "cell_type": "code",
   "execution_count": 6,
   "metadata": {
    "collapsed": false
   },
   "outputs": [],
   "source": [
    "class RandomDiscreteActionChooser(object):\n",
    "    def __init__(self, n_actions):\n",
    "        self.n_actions = n_actions\n",
    "    def act(self, observation):\n",
    "        return np.random.randint(0, self.n_actions)"
   ]
  },
  {
   "cell_type": "code",
   "execution_count": 7,
   "metadata": {
    "collapsed": true
   },
   "outputs": [],
   "source": [
    "class FixedPolicy(object):\n",
    "    def __init__(self, policy, rounding_factor):\n",
    "        self.policy = policy\n",
    "        self.rounding_factor = rounding_factor\n",
    "        \n",
    "    def cat_sample(self, prob_k):\n",
    "        \"\"\"\n",
    "        Sample from categorical distribution\n",
    "        Each row specifies class probabilities\n",
    "        \"\"\"\n",
    "        assert np.allclose(prob_k.sum(),1)\n",
    "        csprob_k = np.cumsum(prob_k)\n",
    "        r = np.random.rand()\n",
    "        for (k,csprob) in enumerate(csprob_k):\n",
    "            if csprob > r:\n",
    "                out = k\n",
    "                break\n",
    "        return out\n",
    "\n",
    "    def act(self, observation):\n",
    "        rounded_state = tuple(rounding_state(observation, self.rounding_factor))\n",
    "        return self.cat_sample(self.policy[rounded_state])"
   ]
  },
  {
   "cell_type": "code",
   "execution_count": 8,
   "metadata": {
    "collapsed": true
   },
   "outputs": [],
   "source": [
    "def generate_pi_train(q_agent):\n",
    "    pi_train = defaultdict(lambda: 1./3*np.ones(3))\n",
    "    for key, value in q_agent.q.items():\n",
    "        action = np.argmax(value)\n",
    "        action_prob = np.zeros(3)\n",
    "        action_prob[action] = 1\n",
    "        pi_train[key] = action_prob\n",
    "    return pi_train"
   ]
  },
  {
   "cell_type": "code",
   "execution_count": 9,
   "metadata": {
    "collapsed": true
   },
   "outputs": [],
   "source": [
    "def compute_value_function(policy, rounding_factor, gamma = 0.99, max_path_length = 100, path_n = 5000):\n",
    "    data = rollouts(env, policy, max_path_length, path_n, gamma, None, rounding_factor)\n",
    "    returns = [episode[\"returns\"][0] for episode in data]\n",
    "    return np.mean(returns) "
   ]
  },
  {
   "cell_type": "code",
   "execution_count": 10,
   "metadata": {
    "collapsed": true
   },
   "outputs": [],
   "source": [
    "def generate_pi_1(pi_train, alpha):\n",
    "    pi_1 = defaultdict(lambda: np.ones(3)/3.0)\n",
    "    for key, value in pi_train.items():\n",
    "        pi_1[key] = (1-alpha)*value + alpha*np.ones(3)/3.0\n",
    "    return pi_1"
   ]
  },
  {
   "cell_type": "code",
   "execution_count": 11,
   "metadata": {
    "collapsed": true
   },
   "outputs": [],
   "source": [
    "def step_wise_is(pi_one, pi_zero, gamma, data, max_path_length = 100):\n",
    "    V = []\n",
    "    for episode in data:\n",
    "        V_episode = 0\n",
    "        observations = episode[\"observations\"]\n",
    "        actions = episode[\"actions\"]\n",
    "        rewards = episode[\"rewards\"]\n",
    "        gamma_i = 1\n",
    "        rho = 1\n",
    "        for i in range(len(observations)):\n",
    "            state, action = tuple(observations[i]), actions[i]\n",
    "            rho = rho*(pi_one[state][action]/pi_zero[state][action])\n",
    "            if rho == 0:\n",
    "                break\n",
    "            V_episode += gamma_i*rho*rewards[i]\n",
    "            gamma_i *= gamma\n",
    "\n",
    "        V.append(V_episode)\n",
    "    \n",
    "    return np.mean(V), np.std(V)"
   ]
  },
  {
   "cell_type": "code",
   "execution_count": 12,
   "metadata": {
    "collapsed": true
   },
   "outputs": [],
   "source": [
    "def step_wise_weighted_is(pi_one, pi_zero, gamma, data, max_path_length = 100):\n",
    "    # Calculate Weights\n",
    "    H = max_path_length\n",
    "    w = np.zeros(H, dtype=\"float\")\n",
    "    for episode in data:\n",
    "        rho = 1\n",
    "        observations = episode[\"observations\"]\n",
    "        actions = episode[\"actions\"]\n",
    "        for i in range(len(observations)):\n",
    "            state, action = tuple(observations[i]), actions[i]\n",
    "            rho = rho*(pi_one[state][action]/pi_zero[state][action])\n",
    "            if rho == 0:\n",
    "                break\n",
    "            w[i] += rho\n",
    "    w /= len(data) \n",
    "    V = []\n",
    "    # Do Weighted Importance Sampling\n",
    "    for episode in data:\n",
    "        observations = episode[\"observations\"]\n",
    "        actions = episode[\"actions\"]\n",
    "        rewards = episode[\"rewards\"]\n",
    "        V_episode = 0        \n",
    "        gamma_i = 1\n",
    "        rho = 1\n",
    "        for i in range(len(observations)):\n",
    "            state, action = tuple(observations[i]), actions[i]\n",
    "            rho = rho*(pi_one[state][action]/pi_zero[state][action])\n",
    "            if rho == 0:\n",
    "                break\n",
    "            V_episode += gamma_i*rho*rewards[i]/w[i]\n",
    "            gamma_i *= gamma\n",
    "        V.append(V_episode)\n",
    "    \n",
    "    return np.mean(V), np.std(V)"
   ]
  },
  {
   "cell_type": "code",
   "execution_count": 28,
   "metadata": {
    "collapsed": true
   },
   "outputs": [],
   "source": [
    "def generate_q_agent(data_train = None, n_itr = 1):\n",
    "    rounding_factor = np.array([2**6, 2**8])\n",
    "    random_policy = RandomDiscreteActionChooser(env.action_space.n)\n",
    "    plot = False\n",
    "    if data_train is None:\n",
    "        data_train = rollouts(env, random_policy, 100, 2000, 1, None, rounding_factor)\n",
    "        plot = True\n",
    "    qAgent = FittedQAgent(ob_space, ac_space, n_itr = n_itr)\n",
    "    if plot:\n",
    "        plt.plot(qAgent.learn(data_train))\n",
    "        plt.xlabel(\"Number of Iterations\")\n",
    "        plt.ylabel(\"Error in Fitterd Q\")\n",
    "    else:\n",
    "        qAgent.learn(data_train)\n",
    "    return qAgent"
   ]
  },
  {
   "cell_type": "code",
   "execution_count": 14,
   "metadata": {
    "collapsed": false
   },
   "outputs": [],
   "source": [
    "def value_from_is():\n",
    "    alphas = [0.0, 0.25, 0.5, 0.75, 1.00]\n",
    "    rounding_factor = np.array([2**6, 2**8])\n",
    "    random_policy = RandomDiscreteActionChooser(env.action_space.n)\n",
    "    data_eval = rollouts(env, random_policy, 100, 5000, 0.99, None, rounding_factor)\n",
    "    pi_train = generate_pi_train(qAgent)\n",
    "    V_IS_mean, V_IS_std = [], []\n",
    "    for alpha in alphas:\n",
    "        pi_1 = generate_pi_1(pi_train, alpha)\n",
    "        pi_0 = defaultdict(lambda : np.ones(3, dtype=float)/3)\n",
    "        V_mean, V_std = step_wise_is(pi_1, pi_0, gamma = 0.99, data = data_eval)\n",
    "        V_IS_mean.append(V_mean)\n",
    "        V_IS_std.append(V_std)\n",
    "    plt.figure(figsize = (15, 5))\n",
    "    plt.subplot(1,2,1)\n",
    "    plt.plot(alphas, V_IS_mean)\n",
    "    plt.xlabel(\"alpha\")\n",
    "    plt.ylabel(\"mean of action Value of IS\")\n",
    "    plt.subplot(1, 2, 2)\n",
    "    plt.plot(alphas, V_IS_std)\n",
    "    plt.xlabel(\"alpha\")\n",
    "    plt.ylabel(\"variance of action Value of IS\")\n",
    "    return V_IS_mean, V_IS_std"
   ]
  },
  {
   "cell_type": "code",
   "execution_count": 24,
   "metadata": {
    "collapsed": false
   },
   "outputs": [],
   "source": [
    "def value_from_wis():\n",
    "    rounding_factor = np.array([2**6, 2**8])\n",
    "    alphas = [0.0, 0.25, 0.5, 0.75, 1.00]\n",
    "    random_policy = RandomDiscreteActionChooser(env.action_space.n)\n",
    "    max_pathlength = 100\n",
    "    data_eval = rollouts(env, random_policy, max_pathlength, 5000, 0.99, None, rounding_factor)\n",
    "    pi_train = generate_pi_train(qAgent)\n",
    "    V_WIS_mean, V_WIS_std = [], []\n",
    "    for alpha in alphas:\n",
    "        pi_1 = generate_pi_1(pi_train, alpha)\n",
    "        pi_0 = defaultdict(lambda : np.ones(3, dtype=float)/3)\n",
    "        V_mean, V_std = step_wise_weighted_is(pi_1, pi_0, gamma = 0.99, data = data_eval, \n",
    "                                              max_path_length=max_pathlength)\n",
    "        V_WIS_mean.append(V_mean)\n",
    "        V_WIS_std.append(V_std)\n",
    "    plt.figure(figsize = (15, 5))\n",
    "    plt.subplot(1,2,1)\n",
    "    plt.plot(alphas, V_WIS_mean, marker = \"H\")\n",
    "    plt.xlabel(\"alpha\")\n",
    "    plt.ylabel(\"mean of action Value of WIS\")\n",
    "    plt.subplot(1, 2, 2)\n",
    "    plt.plot(alphas, V_WIS_std)\n",
    "    plt.xlabel(\"alpha\")\n",
    "    plt.ylabel(\"variance of action Value of WIS\")\n",
    "    return V_WIS_mean, V_WIS_std"
   ]
  },
  {
   "cell_type": "code",
   "execution_count": 16,
   "metadata": {
    "collapsed": false
   },
   "outputs": [],
   "source": [
    "def ground_truth(alphas = [0.0, 0.25, 0.5, 0.75, 1.0]):\n",
    "    rounding_factor = np.array([2**6, 2**8])\n",
    "    ground_truth_V = []\n",
    "    pi_train = generate_pi_train(qAgent)\n",
    "    for alpha in alphas:\n",
    "        pi_1 = generate_pi_1(pi_train, alpha)\n",
    "        fixed_policy = FixedPolicy(pi_1, rounding_factor)\n",
    "        v = compute_value_function(fixed_policy, rounding_factor = rounding_factor,\n",
    "                                   gamma = 0.99, max_path_length = 100, path_n = 5000)\n",
    "        ground_truth_V.append(v)\n",
    "    plt.plot(alphas, ground_truth_V)\n",
    "    plt.xlabel(\"alpha\")\n",
    "    plt.ylabel(\"True Return\")\n",
    "    return ground_truth_V"
   ]
  },
  {
   "cell_type": "code",
   "execution_count": null,
   "metadata": {
    "collapsed": false
   },
   "outputs": [],
   "source": [
    "def rmse_plot_is():\n",
    "    rounding_factor = np.array([2**6, 2**8])\n",
    "    data_size = [10, 100, 1000, 2000, 3000, 4000, 5000]\n",
    "    n_trial = 10\n",
    "    pi_train = generate_pi_train(qAgent)\n",
    "    random_policy = RandomDiscreteActionChooser(env.action_space.n)\n",
    "    pi_0 = defaultdict(lambda : np.ones(3, dtype=\"float\")/3)\n",
    "    plt.figure(figsize=(15, 10))\n",
    "    for i_alpha, alpha in enumerate([0.0, 0.25, 0.5, 0.75]):\n",
    "        print \"RUNNING Experiment with alpha = {}\".format(alpha)\n",
    "        pi_1 = generate_pi_1(pi_train, alpha)\n",
    "        errors = np.zeros_like(data_size, dtype=\"float\")\n",
    "        for _ in range(n_trial):        \n",
    "            data_eval_all = rollouts(env, random_policy, 100, 5000, 0.99, None, rounding_factor)\n",
    "            for i, n in enumerate(data_size):\n",
    "                V_mean, V_std = step_wise_is(pi_1, pi_0, gamma = 0.99, data = data_eval_all[:n])\n",
    "                relative_error = (V_mean - ground_truth_V[i_alpha])/ground_truth_V[i_alpha]\n",
    "                errors[i] = errors[i] + relative_error**2\n",
    "        errors = np.sqrt(errors/n_trial) \n",
    "        plt.subplot(2, 2, i_alpha+1)\n",
    "        plt.plot(data_size, np.log10(errors), marker='o')\n",
    "        plt.xlabel(\"|D_test|\")\n",
    "        plt.ylabel(\"Log10 of relative RMSE\")\n",
    "        plt.ylim([-2, 0])\n",
    "        plt.title(r\"${0}\\pi_{1} + {2} \\pi_0 $\".format(1-alpha, '{train}', alpha))\n",
    "    return np.log10(errors)            "
   ]
  },
  {
   "cell_type": "code",
   "execution_count": null,
   "metadata": {
    "collapsed": false
   },
   "outputs": [],
   "source": [
    "def rmse_plot_wis():\n",
    "    rounding_factor = np.array([2**6, 2**8])\n",
    "    data_size = [10, 100, 1000, 2000, 3000, 4000, 5000]\n",
    "    n_trial = 10\n",
    "    pi_train = generate_pi_train(qAgent)\n",
    "    random_policy = RandomDiscreteActionChooser(env.action_space.n)\n",
    "    pi_0 = defaultdict(lambda : np.ones(3, dtype=\"float\")/3)\n",
    "    plt.figure(figsize=(15, 10))\n",
    "    for i_alpha, alpha in enumerate([0.0, 0.25, 0.5, 0.75]):\n",
    "        print \"RUNNING Experiment with alpha = {}\".format(alpha)\n",
    "        pi_1 = generate_pi_1(pi_train, alpha)\n",
    "        errors = np.zeros_like(data_size, dtype=\"float\")\n",
    "        for _ in range(n_trial):        \n",
    "            data_eval_all = rollouts(env, random_policy, 100, 5000, 0.99, None, rounding_factor)\n",
    "            for i, n in enumerate(data_size):\n",
    "                V_mean, V_std = step_wise_weighted_is(pi_1, pi_0, gamma = 0.99, data = data_eval_all[:n])\n",
    "                relative_error = (V_mean - ground_truth_V[i_alpha])/ground_truth_V[i_alpha]\n",
    "                errors[i] = errors[i] + relative_error**2\n",
    "        errors = np.sqrt(errors/n_trial) \n",
    "        plt.subplot(2, 2, i_alpha+1)\n",
    "        plt.plot(data_size, np.log10(errors), marker='o')\n",
    "        plt.xlabel(\"|D_test|\")\n",
    "        plt.ylabel(\"Log10 of relative RMSE\")\n",
    "        plt.ylim([-2, 0])\n",
    "        plt.title(r\"${0}\\pi_{1} + {2} \\pi_0 $\".format(1-alpha, '{train}', alpha))\n",
    "    return np.log10(errors)"
   ]
  },
  {
   "cell_type": "code",
   "execution_count": 19,
   "metadata": {
    "collapsed": false
   },
   "outputs": [],
   "source": [
    "def prob_distribution(a_list):\n",
    "    dist = defaultdict(lambda: 0)\n",
    "    len_a_list = float(len(a_list))\n",
    "    for elem in a_list:\n",
    "        dist[elem] += 1\n",
    "    for key, value in dist.items():\n",
    "        dist[key] = value/len_a_list\n",
    "    return dist\n",
    "\n",
    "def train_MDP(data):\n",
    "    mdp = defaultdict(lambda : [[], []])\n",
    "    for episode in data:    \n",
    "        observations, actions, rewards = episode[\"observations\"], episode[\"actions\"], episode[\"rewards\"]\n",
    "        for state, action, next_state, reward in zip(observations[:-1], actions[:-1], \n",
    "                                                     observations[1:], rewards[:-1]):\n",
    "            v = mdp[state[0], state[1], action]\n",
    "            v[0].append(tuple(next_state))\n",
    "            v[1].append(reward)\n",
    "            \n",
    "    for key, value in mdp.items():\n",
    "        mdp[key] = [prob_distribution(value[0]), np.mean(value[1])]\n",
    "    \n",
    "    return mdp\n",
    "\n",
    "def reg(data, pi_one, gamma):\n",
    "    v = []\n",
    "    mdp = train_MDP(data)\n",
    "    V = {}\n",
    "    Q = {}\n",
    "    for episode in data:\n",
    "        actions, rewards, observations = episode[\"actions\"], episode[\"rewards\"], episode[\"observations\"]\n",
    "        actions, rewards, observations = actions[:-1][::-1], rewards[:-1][::-1], observations[:-1][::-1]\n",
    "        default_val = 0\n",
    "        for h, state, action in zip(range(len(observations)), observations, actions):\n",
    "            next_states_probs = mdp[state[0], state[1], action][0].items()\n",
    "            reward = mdp[state[0], state[1], action][1]\n",
    "            Q[state[0], state[1], action] = reward + gamma*sum(prob * V.get(next_state, default_val) \n",
    "                                                               for next_state, prob in next_states_probs)\n",
    "            default_val = -1 + gamma * default_val  ## updating the default value for action-values\n",
    "            actions_prob = pi_one[state[0], state[1]]\n",
    "            q_values = np.array([Q.get((state[0], state[1], a), default_val) for a in [0, 1, 2]])\n",
    "            V[state[0], state[1]] = q_values.dot(actions_prob)\n",
    "            \n",
    "        v.append(V[state[0], state[1]])\n",
    "    return V, Q, np.mean(v), np.std(v)"
   ]
  },
  {
   "cell_type": "code",
   "execution_count": 20,
   "metadata": {
    "collapsed": true
   },
   "outputs": [],
   "source": [
    "def value_from_reg(alphas = [0.0, 0.25, 0.5, 0.75, 1.00], d_test_size = 5000):\n",
    "    rounding_factor = np.array([2**6, 2**8])\n",
    "    random_policy = RandomDiscreteActionChooser(env.action_space.n)\n",
    "    data_eval = rollouts(env, random_policy, 100, d_test_size, 0.99, None, rounding_factor)\n",
    "    pi_train = generate_pi_train(qAgent)\n",
    "    V_reg_mean, V_reg_std = [], []\n",
    "    for alpha in alphas:\n",
    "        pi_1 = generate_pi_1(pi_train, alpha)\n",
    "        _, _, V_mean, V_std = reg(pi_one = pi_1, gamma = 0.99, data = data_eval)\n",
    "        V_reg_mean.append(V_mean)\n",
    "        V_reg_std.append(V_std)\n",
    "    plt.figure(figsize = (15, 5))\n",
    "    plt.subplot(1,2,1)\n",
    "    plt.plot(alphas, V_reg_mean)\n",
    "    plt.xlabel(r\"$\\alpha$\")\n",
    "    plt.ylabel(\"mean of action Value of Regression\")\n",
    "    plt.subplot(1, 2, 2)\n",
    "    plt.plot(alphas, V_reg_std)\n",
    "    plt.xlabel(r\"$\\alpha$\")\n",
    "    plt.ylabel(\"variance of action Value of reg\")\n",
    "    return V_reg_mean, V_reg_std"
   ]
  },
  {
   "cell_type": "code",
   "execution_count": 38,
   "metadata": {
    "collapsed": false
   },
   "outputs": [],
   "source": [
    "def rmse_plot_reg(alphas = [0.0, 0.25, 0.5, 0.75], n_trial = 50, \n",
    "                  data_size = [10, 100, 1000, 2000, 3000, 4000, 5000], \n",
    "                  ground_truth_V = ground_truth_V):\n",
    "    rounding_factor = np.array([2**6, 2**8])\n",
    "    pi_train = generate_pi_train(qAgent)\n",
    "    random_policy = RandomDiscreteActionChooser(env.action_space.n)\n",
    "    plt.figure(figsize=(15, 10))\n",
    "    for i_alpha, alpha in enumerate(alphas):\n",
    "        print \"RUNNING Experiment with alpha = {}\".format(alpha)\n",
    "        pi_1 = generate_pi_1(pi_train, alpha)\n",
    "        errors = np.zeros_like(data_size, dtype=\"float\")\n",
    "        for _ in range(n_trial):        \n",
    "            data_eval_all = rollouts(env, random_policy, 100, 5000, 0.99, None, rounding_factor)\n",
    "            for i, n in enumerate(data_size):\n",
    "                _, _, V_mean, V_std = reg(pi_one = pi_1, gamma = 0.99, data = data_eval_all[:n])\n",
    "                relative_error = (V_mean - ground_truth_V[i_alpha])/ground_truth_V[i_alpha]\n",
    "                errors[i] = errors[i] + relative_error**2\n",
    "        errors = np.sqrt(errors/n_trial) \n",
    "        plt.subplot(2, 2, i_alpha+1)\n",
    "        plt.plot(data_size, np.log10(errors), marker='o')\n",
    "        plt.xlabel(r\"$|D_{test}|$\")\n",
    "        plt.ylabel(\"Log10 of relative RMSE \")\n",
    "        plt.ylim([-2, 0])\n",
    "        plt.title(r\"${0}\\pi_{1} + {2} \\pi_0 $\".format(1-alpha, '{train}', alpha))\n",
    "    return errors"
   ]
  },
  {
   "cell_type": "code",
   "execution_count": 22,
   "metadata": {
    "collapsed": false
   },
   "outputs": [
    {
     "name": "stderr",
     "output_type": "stream",
     "text": [
      "INFO:gym.envs.registration:Making new env: MountainCar-v0\n",
      "[2016-08-30 19:14:32,594] Making new env: MountainCar-v0\n"
     ]
    }
   ],
   "source": [
    "env = gym.make(\"MountainCar-v0\")\n",
    "ob_space = env.observation_space\n",
    "ac_space = env.action_space"
   ]
  },
  {
   "cell_type": "code",
   "execution_count": 31,
   "metadata": {
    "collapsed": false
   },
   "outputs": [
    {
     "data": {
      "image/png": "[encoded data removed]",
      "text/plain": [
       "<matplotlib.figure.Figure at 0x7f84aae84610>"
      ]
     },
     "metadata": {},
     "output_type": "display_data"
    }
   ],
   "source": [
    "qAgent = generate_q_agent(n_itr = 3)"
   ]
  },
  {
   "cell_type": "markdown",
   "metadata": {},
   "source": [
    "### Ground Truth as a function of  $\\alpha$"
   ]
  },
  {
   "cell_type": "code",
   "execution_count": 32,
   "metadata": {
    "collapsed": false
   },
   "outputs": [
    {
     "data": {
      "image/png": "[encoded data removed]",
      "text/plain": [
       "<matplotlib.figure.Figure at 0x7f84a7f7bed0>"
      ]
     },
     "metadata": {},
     "output_type": "display_data"
    }
   ],
   "source": [
    "ground_truth_V = ground_truth()"
   ]
  },
  {
   "cell_type": "markdown",
   "metadata": {},
   "source": [
    "### STEP WISE IS"
   ]
  },
  {
   "cell_type": "code",
   "execution_count": 34,
   "metadata": {
    "collapsed": false
   },
   "outputs": [
    {
     "data": {
      "image/png": "[encoded data removed]",
      "text/plain": [
       "<matplotlib.figure.Figure at 0x7f84aaf7a250>"
      ]
     },
     "metadata": {},
     "output_type": "display_data"
    }
   ],
   "source": [
    "V_IS = value_from_is()"
   ]
  },
  {
   "cell_type": "markdown",
   "metadata": {},
   "source": [
    "### Inference from the above plot:\n",
    "\n",
    "1. Why does the variance in IS increases with $\\alpha$ and suddenly drop to zero for $\\alpha = 1$?\n",
    "    *  When $\\alpha = 0$, our policy is essentially deterministic. Therefore the most of the importance sampling terms can become zero, consequently we see a low varaince. Moreover, when $\\alpha = 1$, both target and behavior policy become same, hence the importance sampling terms become $1$ and we do not see any variance.\n",
    "    "
   ]
  },
  {
   "cell_type": "markdown",
   "metadata": {},
   "source": [
    "### Step-wise Weighted IS"
   ]
  },
  {
   "cell_type": "code",
   "execution_count": 35,
   "metadata": {
    "collapsed": false
   },
   "outputs": [
    {
     "data": {
      "image/png": "[encoded data removed]",
      "text/plain": [
       "<matplotlib.figure.Figure at 0x7f84a87bb390>"
      ]
     },
     "metadata": {},
     "output_type": "display_data"
    }
   ],
   "source": [
    "V_WIS = value_from_wis()"
   ]
  },
  {
   "cell_type": "markdown",
   "metadata": {},
   "source": [
    "### Inference from the above plot:\n",
    "\n",
    "1. Why does the variance in Weighted Importance Sampling (WIS) increases with $\\alpha$ and suddenly drop to zero for $\\alpha = 1$?\n",
    "    * The same argument that we gave for IS case is applicable here. \n",
    "    \n",
    "2. Whys does the WIS give almost same estimate of value function for all policies with $\\alpha > 0$?\n",
    "    * The formula for WIS estimate is\n",
    "    $$\n",
    "     \\sum_{i=1}^D \\sum_{t=1}^H \\gamma^{t-1} \\frac{\\rho^i_{1:t} r_t^i}{\\sum_{j=1}^D \\rho^j_{1:t}}.\n",
    "    $$\n",
    "    \n",
    "    The only justification that I can think of this phenomenon is that the factor $\\sum_{i=1}^D \\frac{\\rho^i_{1:t} r_t^i}{\\sum_{j=1}^D \\rho^j_{1:t}}$ is coming same for all probability distibutions corresponding to different $\\alpha$. Note that the reward $r^i_t = -1 \\;\\; \\forall\\;\\; i, t$. Consequently,  \n",
    "    $$ \n",
    "    \\sum_{i=1}^D \\frac{\\rho^i_{1:t} r_t^i}{\\sum_{j=1}^D \\rho^j_{1:t}} = -1\n",
    "    $$\n",
    "    Consequently, the answer that we should get is $\\left.\\frac{1-\\gamma^{100}}{1 - \\gamma}\\right|_{\\gamma = 0.99} = 63.396$. The reason that we got higher reward for $\\alpha = 0.0$, because importance sampling terms quickly becomes 0 after around 10 rollouts.\n",
    "    Since the policy $\\pi_0$ is uniform, I checked that most rollout (more than 99%) terminates because the maximum path length for the rollouts are reached."
   ]
  },
  {
   "cell_type": "markdown",
   "metadata": {},
   "source": [
    "### REGRESSION"
   ]
  },
  {
   "cell_type": "code",
   "execution_count": 36,
   "metadata": {
    "collapsed": false
   },
   "outputs": [
    {
     "data": {
      "image/png": "[encoded data removed]",
      "text/plain": [
       "<matplotlib.figure.Figure at 0x7f84a7d31f90>"
      ]
     },
     "metadata": {},
     "output_type": "display_data"
    }
   ],
   "source": [
    "V_reg = value_from_reg()"
   ]
  },
  {
   "cell_type": "markdown",
   "metadata": {},
   "source": [
    "### Observations:\n",
    "\n",
    "1. Variance in Regression Estimate first decreases with $\\alpha$, reach a minimum, and  then increases with $\\alpha$.\n",
    "    * There are two opposing factors. As $\\alpha$ increases, the target policy become more random while at the same time the target policy goes more closer to the behavior policy. This is the reason for the above graph."
   ]
  },
  {
   "cell_type": "markdown",
   "metadata": {},
   "source": [
    "### Relative RMSE for Step-wise IS"
   ]
  },
  {
   "cell_type": "code",
   "execution_count": 39,
   "metadata": {
    "collapsed": false
   },
   "outputs": [
    {
     "name": "stdout",
     "output_type": "stream",
     "text": [
      "RUNNING Experiment with alpha = 0.0\n",
      "RUNNING Experiment with alpha = 0.25\n",
      "RUNNING Experiment with alpha = 0.5\n",
      "RUNNING Experiment with alpha = 0.75\n"
     ]
    },
    {
     "data": {
      "image/png": "[encoded data removed]",
      "text/plain": [
       "<matplotlib.figure.Figure at 0x7f84aaf6ef90>"
      ]
     },
     "metadata": {},
     "output_type": "display_data"
    }
   ],
   "source": [
    "errors_IS = rmse_plot_is()"
   ]
  },
  {
   "cell_type": "markdown",
   "metadata": {},
   "source": [
    "### Inference from the above graph\n",
    "\n",
    "1. Why does the RMSE error reduces as $\\alpha$ increases?\n",
    "    * As $\\alpha$ increases, target policy reaches close to the behavior policy and important sampling ratio becomes closer to one for all actions, consequently, we get better estimate of value funciton with lower variance.\n",
    "    \n",
    "    \n",
    "2. Why does the RMSE estimate for a given $\\alpha$ becomes better as $|D_{test}|$ increases?\n",
    "    * IS is an unbiased estimator but with high variance. As $|D_{test}|$ increases, becasue of the law of large number, we reduces the varainces, consequently, RMSE also reduces.\n",
    "    \n",
    "    \n",
    "3. Why does the RMSE estimate are worst for $\\alpha = 0.25$?\n",
    "    * Among all the cases considered, $\\pi_1(0.25)$ is the first stochastic policy that is the farthest from the behavior policy $\\pi_0$, therefore, we are getting the worst RMSE estimate for $\\pi_1(0.25)$ while using IS."
   ]
  },
  {
   "cell_type": "markdown",
   "metadata": {},
   "source": [
    "### Relative RMSE for Step-wise weighted IS"
   ]
  },
  {
   "cell_type": "code",
   "execution_count": 40,
   "metadata": {
    "collapsed": false
   },
   "outputs": [
    {
     "name": "stdout",
     "output_type": "stream",
     "text": [
      "RUNNING Experiment with alpha = 0.0\n",
      "RUNNING Experiment with alpha = 0.25\n",
      "RUNNING Experiment with alpha = 0.5\n",
      "RUNNING Experiment with alpha = 0.75\n"
     ]
    },
    {
     "data": {
      "image/png": "[encoded data removed]",
      "text/plain": [
       "<matplotlib.figure.Figure at 0x7f84a5837fd0>"
      ]
     },
     "metadata": {},
     "output_type": "display_data"
    }
   ],
   "source": [
    "errors_WIS = rmse_plot_wis()"
   ]
  },
  {
   "cell_type": "markdown",
   "metadata": {},
   "source": [
    "### Inference from the above graph\n",
    "\n",
    "1. As we have argued earlier, the value estimate using the WIS will be a constant for any stochastic policy that satisfies the following conditions:\n",
    "    * It gives non-zero probailities for all actions, \n",
    "    * The immediate rewards are constant during the rollout, \n",
    "    * each rollout is of the same size.\n",
    "    \n",
    "Consequently, we see a cosntant line in the above curve."
   ]
  },
  {
   "cell_type": "markdown",
   "metadata": {},
   "source": [
    "### Relative RMSE with Regression"
   ]
  },
  {
   "cell_type": "code",
   "execution_count": 41,
   "metadata": {
    "collapsed": false
   },
   "outputs": [
    {
     "name": "stdout",
     "output_type": "stream",
     "text": [
      "RUNNING Experiment with alpha = 0.0\n",
      "RUNNING Experiment with alpha = 0.25\n",
      "RUNNING Experiment with alpha = 0.5\n",
      "RUNNING Experiment with alpha = 0.75\n"
     ]
    },
    {
     "data": {
      "text/plain": [
       "array([ 0.11590465,  0.23075356,  0.24831609,  0.22688434,  0.20872619,\n",
       "        0.19341989,  0.1801157 ])"
      ]
     },
     "execution_count": 41,
     "metadata": {},
     "output_type": "execute_result"
    },
    {
     "data": {
      "image/png": "[encoded data removed]",
      "text/plain": [
       "<matplotlib.figure.Figure at 0x7f84a7f3f490>"
      ]
     },
     "metadata": {},
     "output_type": "display_data"
    }
   ],
   "source": [
    "rmse_plot_reg()"
   ]
  },
  {
   "cell_type": "markdown",
   "metadata": {},
   "source": [
    "1. Why RMSE first reduces as $\\alpha$ increases and then decreases for $\\alpha = 0.75$?\n",
    "    * The RMSE decreases becauses the target policy becomes closer to the behavior policy. However, as we noted previously that the variance of the regression estimate increases as $\\alpha$ increases. That could be the one possible reason that we see that the RMSE is high for $\\alpha = 0.75$. ** However, the figure plotted in the paper does not show this pattern. In the paper, the RMSE reduces consistently as $\\alpha$ increases. **"
   ]
  },
  {
   "cell_type": "markdown",
   "metadata": {},
   "source": [
    "### Doubly Robust Estimator"
   ]
  },
  {
   "cell_type": "markdown",
   "metadata": {},
   "source": [
    "# Check the accuracy of default value in DR?"
   ]
  },
  {
   "cell_type": "code",
   "execution_count": null,
   "metadata": {
    "collapsed": false
   },
   "outputs": [],
   "source": [
    "def value_from_DR():\n",
    "    rounding_factor = np.array([2**6, 2**8])\n",
    "    gamma = 1\n",
    "    alphas = [0.0, 0.25, 0.5, 0.75, 1.00]\n",
    "    random_policy = RandomDiscreteActionChooser(env.action_space.n)\n",
    "    data_DR = rollouts(env, random_policy, 100, 5000, 0.99, None, rounding_factor)\n",
    "    n_regs = [10, 100, 1000, 2000, 3000, 4000, 4990]\n",
    "    policy_opt = generate_pi_train(qAgent)\n",
    "    plt.figure(figsize = (20, 6))\n",
    "    for i_reg, n_reg in enumerate(n_regs):\n",
    "        data_DR_reg = data_DR[:n_reg]\n",
    "        data_DR_test = data_DR[n_reg:]\n",
    "        V_DR_mean, V_DR_std = [], []\n",
    "        policy_0 = defaultdict(lambda : np.ones(3, dtype=float)/3)\n",
    "\n",
    "        for alpha in alphas:\n",
    "            V_dr_tot = []\n",
    "            policy_1 = generate_pi_1(policy_opt, alpha)\n",
    "            train_v, train_q, _, _ = reg(data = data_DR_reg, pi_one = policy_1, gamma = 0.99)\n",
    "            for episode in data_DR_test:\n",
    "                V_dr = 0\n",
    "                actions, rewards, observations = episode[\"actions\"], episode[\"rewards\"], episode[\"observations\"]\n",
    "                actions, rewards, observations = actions[::-1], rewards[::-1], observations[::-1]\n",
    "                default_v = 0\n",
    "                for h, state, action, reward in zip(range(len(observations)), observations, \n",
    "                                                    actions, rewards):\n",
    "                    rho = policy_1[tuple(state)][action]/policy_0[tuple(state)][action] # importance sampling\n",
    "                    V_dr = (train_v.get(tuple(state), default_v) \n",
    "                            + rho*(reward \n",
    "                                   + gamma*V_dr \n",
    "                                   - train_q.get((state[0], state[1], action), default_v)))\n",
    "                    default_v = -1 + gamma*default_v   # updating the default value of Markov Process\n",
    "                V_dr_tot.append(V_dr)\n",
    "            V_DR_mean.append(np.mean(V_dr_tot))\n",
    "            V_DR_std.append(np.std(V_dr_tot))\n",
    "        ## Mean Plotting\n",
    "        plt.subplot(2, 7, i_reg+1)\n",
    "        plt.plot(alphas, V_DR_mean)\n",
    "        if not i_reg%7:\n",
    "            plt.ylabel(\"mean of value estimate of DR\")\n",
    "        plt.title(\"data size = {}\".format(n_reg))\n",
    "        ## Deviation Plotting\n",
    "        plt.subplot(2, 7, i_reg+8)\n",
    "        plt.plot(alphas, V_DR_std)\n",
    "        plt.xlabel(r\"$\\alpha$\")\n",
    "        if not i_reg%7:\n",
    "            plt.ylabel(\"standard deviation in value estimate of DR\")\n",
    "        plt.title(\"data size = {}\".format(n_reg))\n",
    "    plt.tight_layout()\n",
    "    return V_DR_mean, V_DR_std"
   ]
  },
  {
   "cell_type": "code",
   "execution_count": null,
   "metadata": {
    "collapsed": false
   },
   "outputs": [],
   "source": [
    "v_DR_mean, v_DR_std = value_from_DR()"
   ]
  },
  {
   "cell_type": "code",
   "execution_count": null,
   "metadata": {
    "collapsed": false
   },
   "outputs": [],
   "source": [
    "#default_v = 0\n",
    "v_DR_mean, v_DR_std = value_from_DR()"
   ]
  },
  {
   "cell_type": "markdown",
   "metadata": {},
   "source": [
    "### Inference from the above graphs\n",
    "\n",
    "1. Why does the DR estimator has a huge standard deviations?\n",
    "    * The recursive equation for the DR estimator is \n",
    "    $$\n",
    "    V^{H+1-t}_{DR} := \\hat{V}(s_t) + \\rho_t(r_t + \\gamma V^{H-t}_{DR} - \\hat{Q}(s_t, a_t)) \\forall t \\in \\{1, 2, \\cdots, H\\}\n",
    "    $$\n",
    "    where $V^0_{DR} = 0$\n",
    "    \n",
    "    We can write the final DR estimate as \n",
    "    $$\n",
    "    V^H_{DR} = \\sum_{t=1}^H \\rho_{1:t}\\gamma^{t-1} r_t +  \\rho_{1:t-1}\\gamma^{t-1}\\left(\\hat{V}(s_t) - \\rho_t\\hat{Q}(s_t, a_t)\\right)\n",
    "    $$\n",
    "    Because of the presence of the importance sampling ratio in both the terms in the right hand side, we see a huge variance in the DR estimator.\n",
    "    \n",
    "2. What are the reasons behind the compratively low variance at $\\alpha = 0$ and $\\alpha = 1$?\n",
    "    * For $\\alpha = 0$, the target policy is a determinstic policy, consequently, most of importance sampling ratio terms are $0$, therefore, we see less variance.\n",
    "    * For $\\alpha = 1$, the importance sampling ratio becomes 1.\n",
    "    \n",
    "3. Why does the estimate become progressively better (both in biases and variance) as the data size for the regression increases?\n",
    "    * As the data size increases, the regression estimate becomes better. As shown in the paper, the variance of the DR estimator depends on $|Q - \\hat{Q}|$. Since, the estimate becomes better, the variance in the DR reduces with the data size.\n",
    "    \n",
    "4. Why does the estimate higly depends on the default value when the data size for the regression is small?\n",
    "    * When the data size for the regression is small, there are many states for which we don't have any estimate. Consequently, in the DR estimate we have to use the default value that affect the estimate.\n",
    " "
   ]
  },
  {
   "cell_type": "code",
   "execution_count": null,
   "metadata": {
    "collapsed": true
   },
   "outputs": [],
   "source": [
    "def value_estimate_DR(data_test, train_v, train_q, policy_1, policy_0, gamma):\n",
    "    \"\"\"\n",
    "    gives the value estimate of DR estimator using the State Value Function `train_v` \n",
    "    and State-Action Value Function `train_q`\n",
    "    \"\"\"\n",
    "    V_dr_tot = []\n",
    "    for episode in data_test:\n",
    "        V_dr = 0\n",
    "        actions, rewards, observations = episode[\"actions\"], episode[\"rewards\"], episode[\"observations\"]\n",
    "        actions, rewards, observations = actions[::-1], rewards[::-1], observations[::-1]\n",
    "        default_v = 0\n",
    "        for h, state, action, reward in zip(range(len(observations)), observations, \n",
    "                                            actions, rewards):\n",
    "            rho = policy_1[tuple(state)][action]/policy_0[tuple(state)][action]\n",
    "            V_dr = (train_v.get(tuple(state), default_v) \n",
    "                    + rho*(reward \n",
    "                           + gamma*V_dr \n",
    "                           - train_q.get((state[0], state[1], action), default_v)))\n",
    "            default_v = -1 + gamma*default_v\n",
    "        V_dr_tot.append(V_dr)\n",
    "    return np.mean(V_dr_tot), np.std(V_dr_tot)"
   ]
  },
  {
   "cell_type": "code",
   "execution_count": null,
   "metadata": {
    "collapsed": true
   },
   "outputs": [],
   "source": [
    "def value_DR_ntests(data, n_tests, policy_1, policy_0, gamma):\n",
    "    \"\"\"\n",
    "    Give the errors in estimating value functions using DR estimator\n",
    "    \"\"\"\n",
    "    \n",
    "    V_dr_agg = []\n",
    "    V_reg_agg = []\n",
    "    V_is_agg = []\n",
    "    V_wis_agg = []\n",
    "    for n_test in n_tests:          \n",
    "        data_DR_reg = data[n_test:]\n",
    "        data_DR_test = data[:n_test]\n",
    "        train_v, train_q, v_reg_mean, v_reg_std = reg(data = data_DR_reg, pi_one = policy_1, gamma = 0.99)     \n",
    "        v_dr_mean, v_dr_std = value_estimate_DR(data_DR_test, train_v, train_q, policy_1, policy_0, gamma = 0.99) \n",
    "        ### importance sampling and weighted importance sampling\n",
    "        v_is_mean, _ = step_wise_is(policy_1, policy_0, gamma = 0.99, data = data_DR_test)\n",
    "        v_wis_mean, _ = step_wise_weighted_is(policy_1, policy_0, gamma = 0.99, data = data_DR_test)\n",
    "        V_dr_agg.append(v_dr_mean)\n",
    "        V_reg_agg.append(v_reg_mean)\n",
    "        V_is_agg.append(v_is_mean)\n",
    "        V_wis_agg.append(v_wis_mean)\n",
    "    return V_dr_agg, V_reg_agg, V_is_agg, V_wis_agg\n",
    "    "
   ]
  },
  {
   "cell_type": "code",
   "execution_count": null,
   "metadata": {
    "collapsed": true
   },
   "outputs": [],
   "source": [
    "def rmse_plot_DR():\n",
    "    rounding_factor = np.array([2**6, 2**8])\n",
    "    n_trial = 50\n",
    "    gamma = 0.99\n",
    "    alphas = [0.0, 0.25, 0.5, 0.75]\n",
    "    n_tests = [10, 100, 1000, 2000, 3000, 4000, 4500, 4900]\n",
    "    random_policy = RandomDiscreteActionChooser(env.action_space.n)\n",
    "    policy_train = generate_pi_train(qAgent)\n",
    "    policy_0 = defaultdict(lambda : np.ones(3, dtype=float)/3)\n",
    "    \n",
    "    plt.figure(figsize=(15, 8))\n",
    "    for i_alpha, alpha in enumerate(alphas):\n",
    "        print \"RUNNING Experiment with alpha = {}\".format(alpha)\n",
    "        policy_1 = generate_pi_1(policy_train, alpha)\n",
    "        errors_dr = np.zeros_like(n_tests, dtype=\"float\")\n",
    "        errors_reg = np.zeros_like(n_tests, dtype=\"float\")\n",
    "        errors_is = np.zeros_like(n_tests, dtype=\"float\")\n",
    "        errors_wis = np.zeros_like(n_tests, dtype=\"float\")\n",
    "        for _ in range(n_trial):\n",
    "            data_DR = rollouts(env, random_policy, 100, 5000, 0.99, None, rounding_factor)\n",
    "            V_drs, V_regs, V_is, V_wis = value_DR_ntests(data_DR, n_tests, policy_1, policy_0, gamma)\n",
    "            relative_error_dr = (np.array(V_drs) - ground_truth_V[i_alpha])/ground_truth_V[i_alpha]\n",
    "            relative_error_reg = (np.array(V_regs) - ground_truth_V[i_alpha])/ground_truth_V[i_alpha]\n",
    "            relative_error_is = (np.array(V_is) - ground_truth_V[i_alpha])/ground_truth_V[i_alpha]\n",
    "            relative_error_wis = (np.array(V_wis) - ground_truth_V[i_alpha])/ground_truth_V[i_alpha]\n",
    "            errors_dr += relative_error_dr**2\n",
    "            errors_reg += relative_error_reg**2\n",
    "            errors_is += relative_error_is**2\n",
    "            errors_wis += relative_error_wis**2\n",
    "        errors_dr = np.sqrt(errors_dr/n_trial) \n",
    "        errors_reg = np.sqrt(errors_reg/n_trial) \n",
    "        errors_is = np.sqrt(errors_is/n_trial) \n",
    "        errors_wis = np.sqrt(errors_wis/n_trial)\n",
    "        \n",
    "        plt.subplot(2, 2, i_alpha+1)\n",
    "        plt.plot(n_tests, np.log10(errors_is), marker='*')\n",
    "        plt.plot(n_tests, np.log10(errors_wis), marker='+')\n",
    "        plt.plot(n_tests, np.log10(errors_reg), marker='8')\n",
    "        plt.plot(n_tests, np.log10(errors_dr), marker='s')\n",
    "\n",
    "        plt.xlabel(\"|D_test|\")\n",
    "        plt.ylabel(\"Log10 of relative RMSE \")\n",
    "        plt.ylim([-2, 0])\n",
    "        plt.legend([\"IS\", \"WIS\", \"REG\", \"DR\"], loc = \"lower right\")\n",
    "        plt.title(r\"${0}\\pi_{1} + {2} \\pi_0 $\".format(1-alpha, '{train}', alpha))\n",
    "    return errors_dr, errors_reg"
   ]
  },
  {
   "cell_type": "code",
   "execution_count": null,
   "metadata": {
    "collapsed": false
   },
   "outputs": [],
   "source": [
    "import time\n",
    "t = time.clock()\n",
    "rmse_plot_DR()\n",
    "print \"time spent in running the simulation is {}\".format(time.clock() - t)"
   ]
  },
  {
   "cell_type": "markdown",
   "metadata": {},
   "source": [
    "### Inference from the above graph\n",
    "\n",
    "1. For $\\alpha = 1$, DR is performing better than all estimators. \n",
    "\n",
    "2. The performance of DR estimator consistently becomes worse as the size of regression data set reduces.\n",
    "\n",
    "3. As $\\alpha$ increses, the performance of IS becomes better than the Regression Method and DR. "
   ]
  },
  {
   "cell_type": "code",
   "execution_count": null,
   "metadata": {
    "collapsed": false
   },
   "outputs": [],
   "source": [
    "rmse_plot_DR()"
   ]
  },
  {
   "cell_type": "markdown",
   "metadata": {},
   "source": [
    "### Inference from the above graph\n",
    "\n",
    "1. Why is DR performing better than Regression method when $D_{\\text{test}}$ is small for $\\alpha = \\{0.0, 0.25\\}$?"
   ]
  },
  {
   "cell_type": "markdown",
   "metadata": {},
   "source": [
    "### Exercise 6.2"
   ]
  },
  {
   "cell_type": "code",
   "execution_count": null,
   "metadata": {
    "collapsed": true
   },
   "outputs": [],
   "source": [
    "def calculate_score(c, mu, sigma):\n",
    "    return mu - c*sigma"
   ]
  },
  {
   "cell_type": "code",
   "execution_count": null,
   "metadata": {
    "collapsed": true
   },
   "outputs": [],
   "source": [
    "def compute_value_policy(policy):\n",
    "    rounding_factor = np.array([2**6, 2**8])\n",
    "    fixed_policy = FixedPolicy(policy, rounding_factor)\n",
    "    v = compute_value_function(fixed_policy, rounding_factor = rounding_factor,\n",
    "                                   gamma = 0.99, max_path_length = 100, path_n = 5000)\n",
    "    return v"
   ]
  },
  {
   "cell_type": "code",
   "execution_count": null,
   "metadata": {
    "collapsed": false
   },
   "outputs": [],
   "source": [
    "def safe_policy_improvement():\n",
    "    alphas = np.linspace(0, 1, 11)\n",
    "    training_sizes = [0.2, 0.4, 0.6, 0.8]\n",
    "    rounding_factor = np.array([2**6, 2**8])\n",
    "    random_policy = RandomDiscreteActionChooser(env.action_space.n)\n",
    "    data_sizes = [10, 100, 1000, 2000, 5000]\n",
    "    value_imporvements = []\n",
    "    for data_size in data_sizes:\n",
    "        data_safe_policy = rollouts(env, random_policy, 100, data_size, 0.99, None, rounding_factor)\n",
    "        pi_0 = defaultdict(lambda: np.ones(3, dtype=float)/3)\n",
    "        value_random_policy = compute_value_policy(pi_0)\n",
    "        cs = [0, 1, 2]\n",
    "        rewards = np.zeros((len(training_sizes), len(alphas), len(cs))) \n",
    "        for i_train, training_size in enumerate(training_sizes):\n",
    "            train_len = int(training_size*len(data_safe_policy))\n",
    "            data_train, data_test = data_safe_policy[:train_len], data_safe_policy[train_len:]\n",
    "            qAgent = generate_q_agent(data_train)\n",
    "            pi_optimal = generate_pi_train(qAgent)\n",
    "            for i_alpha, alpha in enumerate(alphas):\n",
    "                pi_1 = generate_pi_1(pi_optimal, alpha)\n",
    "                v_mean, v_std = step_wise_is(pi_1, pi_0, 0.99, data_test)\n",
    "                for i_c, c in enumerate(cs):\n",
    "                    rewards[i_train, i_alpha, i_c] = calculate_score(c, v_mean, v_std) \n",
    "\n",
    "        optimal_alphas_index = np.argmax(rewards.sum(axis=0), axis=0)\n",
    "        value_imporvement = []\n",
    "        for i_ind, optimal_alpha_index in enumerate(optimal_alphas_index):\n",
    "            optimal_alpha = alphas[optimal_alpha_index]\n",
    "            print \"optimal alpha = {0} for data size = {1} and c = {2}\".format(optimal_alpha, data_size, i_ind)\n",
    "            optimal_policy = generate_pi_1(pi_optimal, optimal_alpha)\n",
    "            value_optimal_policy = compute_value_policy(optimal_policy)\n",
    "            value_imporvement.append(value_optimal_policy - value_random_policy)\n",
    "        \n",
    "        value_imporvements.append(value_imporvement)\n",
    "    \n",
    "    return value_imporvements\n",
    "    "
   ]
  },
  {
   "cell_type": "code",
   "execution_count": null,
   "metadata": {
    "collapsed": false
   },
   "outputs": [],
   "source": [
    "value_improvements = safe_policy_improvement()\n"
   ]
  },
  {
   "cell_type": "code",
   "execution_count": null,
   "metadata": {
    "collapsed": false
   },
   "outputs": [],
   "source": [
    "data_sizes = [10, 100, 1000, 2000, 5000]"
   ]
  },
  {
   "cell_type": "code",
   "execution_count": null,
   "metadata": {
    "collapsed": false
   },
   "outputs": [],
   "source": [
    "plt.plot(data_sizes, np.array(value_improvements) )\n",
    "plt.legend(['C=0', 'C=1', 'C=2'], loc = 'upper left',)\n",
    "plt.grid()"
   ]
  },
  {
   "cell_type": "code",
   "execution_count": null,
   "metadata": {
    "collapsed": true
   },
   "outputs": [],
   "source": [
    "def safe_policy_improvement_DR():\n",
    "    alphas = np.linspace(0, 1, 11)\n",
    "    training_sizes = [0.2, 0.4, 0.6, 0.8]\n",
    "    rounding_factor = np.array([2**6, 2**8])\n",
    "    random_policy = RandomDiscreteActionChooser(env.action_space.n)\n",
    "    data_sizes = [10, 100, 1000, 2000, 5000]\n",
    "    value_imporvements = []\n",
    "    for data_size in data_sizes:\n",
    "        data_safe_policy = rollouts(env, random_policy, 100, data_size, 0.99, None, rounding_factor)\n",
    "        pi_0 = defaultdict(lambda: np.ones(3, dtype=float)/3)\n",
    "        value_random_policy = compute_value_policy(pi_0)\n",
    "        cs = [0, 1, 2]\n",
    "        rewards = np.zeros((len(training_sizes), len(alphas), len(cs))) \n",
    "        for i_train, training_size in enumerate(training_sizes):\n",
    "            train_len = int(training_size*len(data_safe_policy))\n",
    "            data_train, data_test = data_safe_policy[:train_len], data_safe_policy[train_len:]\n",
    "            qAgent = generate_q_agent(data_train)\n",
    "            pi_optimal = generate_pi_train(qAgent)\n",
    "            for i_alpha, alpha in enumerate(alphas):\n",
    "                pi_1 = generate_pi_1(pi_optimal, alpha)\n",
    "                train_v, train_q, _, _ = reg(data = data_train, pi_one = pi_1, gamma = 0.99) #generating value functions\n",
    "                v_mean, v_std = value_estimate_DR(data_test, train_v, train_q, pi_1, pi_0, 0.99)\n",
    "                for i_c, c in enumerate(cs):\n",
    "                    rewards[i_train, i_alpha, i_c] = calculate_score(c, v_mean, v_std) \n",
    "\n",
    "        optima_alphas_index = np.argmax(rewards.sum(axis=0), axis=0)\n",
    "        value_imporvement = []\n",
    "        for i_ind, optima_alpha_index in enumerate(optima_alphas_index):\n",
    "            optimal_alpha = alphas[optima_alpha_index]\n",
    "            print \"optimal alpha = {0} for data size = {1} and c = {2}\".format(optimal_alpha, data_size, i_ind)\n",
    "            optimal_policy = generate_pi_1(pi_optimal, optimal_alpha)\n",
    "            value_optimal_policy = compute_value_policy(optimal_policy)\n",
    "            value_imporvement.append(value_optimal_policy - value_random_policy)\n",
    "        \n",
    "        value_imporvements.append(value_imporvement)\n",
    "    \n",
    "    return value_imporvements\n",
    "    "
   ]
  },
  {
   "cell_type": "code",
   "execution_count": null,
   "metadata": {
    "collapsed": false
   },
   "outputs": [],
   "source": [
    "value_improvements_DR =  safe_policy_improvement_DR()"
   ]
  },
  {
   "cell_type": "code",
   "execution_count": null,
   "metadata": {
    "collapsed": false
   },
   "outputs": [],
   "source": [
    "plt.plot(data_sizes, np.array(value_improvements_DR) )\n",
    "plt.legend(['C=0', 'C=1', 'C=2'], loc = 'upper left',)\n",
    "plt.grid()"
   ]
  },
  {
   "cell_type": "markdown",
   "metadata": {},
   "source": [
    "### Doubly Robust with Grid-World"
   ]
  },
  {
   "cell_type": "markdown",
   "metadata": {},
   "source": [
    "In this experiment, I want to check the performance of DR estimate as the value-estimate deterioates. "
   ]
  }
 ],
 "metadata": {
  "kernelspec": {
   "display_name": "Python 2",
   "language": "python",
   "name": "python2"
  },
  "language_info": {
   "codemirror_mode": {
    "name": "ipython",
    "version": 2
   },
   "file_extension": ".py",
   "mimetype": "text/x-python",
   "name": "python",
   "nbconvert_exporter": "python",
   "pygments_lexer": "ipython2",
   "version": "2.7.12"
  }
 },
 "nbformat": 4,
 "nbformat_minor": 0
}
